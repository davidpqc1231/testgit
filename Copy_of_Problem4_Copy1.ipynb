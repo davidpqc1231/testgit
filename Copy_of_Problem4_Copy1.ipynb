{
  "nbformat": 4,
  "nbformat_minor": 0,
  "metadata": {
    "accelerator": "GPU",
    "colab": {
      "name": "Copy of Problem4-Copy1.ipynb",
      "provenance": [],
      "collapsed_sections": [],
      "include_colab_link": true
    },
    "kernelspec": {
      "display_name": "Python 3",
      "language": "python",
      "name": "python3"
    },
    "language_info": {
      "codemirror_mode": {
        "name": "ipython",
        "version": 3
      },
      "file_extension": ".py",
      "mimetype": "text/x-python",
      "name": "python",
      "nbconvert_exporter": "python",
      "pygments_lexer": "ipython3",
      "version": "3.7.4"
    },
    "widgets": {
      "application/vnd.jupyter.widget-state+json": {
        "4fa6e8001fe141398cd90dbd9d506778": {
          "model_module": "@jupyter-widgets/controls",
          "model_name": "HBoxModel",
          "state": {
            "_view_name": "HBoxView",
            "_dom_classes": [],
            "_model_name": "HBoxModel",
            "_view_module": "@jupyter-widgets/controls",
            "_model_module_version": "1.5.0",
            "_view_count": null,
            "_view_module_version": "1.5.0",
            "box_style": "",
            "layout": "IPY_MODEL_55e5193d4fa54c308cc219873290ad83",
            "_model_module": "@jupyter-widgets/controls",
            "children": [
              "IPY_MODEL_6009ac2a8fed4f0689c0f6d31b9ba9b8",
              "IPY_MODEL_8a827b9689234853b95dc8d1857c5f0b"
            ]
          }
        },
        "55e5193d4fa54c308cc219873290ad83": {
          "model_module": "@jupyter-widgets/base",
          "model_name": "LayoutModel",
          "state": {
            "_view_name": "LayoutView",
            "grid_template_rows": null,
            "right": null,
            "justify_content": null,
            "_view_module": "@jupyter-widgets/base",
            "overflow": null,
            "_model_module_version": "1.2.0",
            "_view_count": null,
            "flex_flow": null,
            "width": null,
            "min_width": null,
            "border": null,
            "align_items": null,
            "bottom": null,
            "_model_module": "@jupyter-widgets/base",
            "top": null,
            "grid_column": null,
            "overflow_y": null,
            "overflow_x": null,
            "grid_auto_flow": null,
            "grid_area": null,
            "grid_template_columns": null,
            "flex": null,
            "_model_name": "LayoutModel",
            "justify_items": null,
            "grid_row": null,
            "max_height": null,
            "align_content": null,
            "visibility": null,
            "align_self": null,
            "height": null,
            "min_height": null,
            "padding": null,
            "grid_auto_rows": null,
            "grid_gap": null,
            "max_width": null,
            "order": null,
            "_view_module_version": "1.2.0",
            "grid_template_areas": null,
            "object_position": null,
            "object_fit": null,
            "grid_auto_columns": null,
            "margin": null,
            "display": null,
            "left": null
          }
        },
        "6009ac2a8fed4f0689c0f6d31b9ba9b8": {
          "model_module": "@jupyter-widgets/controls",
          "model_name": "IntProgressModel",
          "state": {
            "_view_name": "ProgressView",
            "style": "IPY_MODEL_0bbacb05ce404846834b283e9f6b8dea",
            "_dom_classes": [],
            "description": "",
            "_model_name": "IntProgressModel",
            "bar_style": "success",
            "max": 1,
            "_view_module": "@jupyter-widgets/controls",
            "_model_module_version": "1.5.0",
            "value": 1,
            "_view_count": null,
            "_view_module_version": "1.5.0",
            "orientation": "horizontal",
            "min": 0,
            "description_tooltip": null,
            "_model_module": "@jupyter-widgets/controls",
            "layout": "IPY_MODEL_b607cf7b0fae44cfa5208bd55ca66bd3"
          }
        },
        "8a827b9689234853b95dc8d1857c5f0b": {
          "model_module": "@jupyter-widgets/controls",
          "model_name": "HTMLModel",
          "state": {
            "_view_name": "HTMLView",
            "style": "IPY_MODEL_d0edb2286b564fb4b7a646476436e132",
            "_dom_classes": [],
            "description": "",
            "_model_name": "HTMLModel",
            "placeholder": "​",
            "_view_module": "@jupyter-widgets/controls",
            "_model_module_version": "1.5.0",
            "value": "9920512it [00:01, 8759994.96it/s]",
            "_view_count": null,
            "_view_module_version": "1.5.0",
            "description_tooltip": null,
            "_model_module": "@jupyter-widgets/controls",
            "layout": "IPY_MODEL_1033194b68aa4bdc9c0cf7c092d50a0d"
          }
        },
        "0bbacb05ce404846834b283e9f6b8dea": {
          "model_module": "@jupyter-widgets/controls",
          "model_name": "ProgressStyleModel",
          "state": {
            "_view_name": "StyleView",
            "_model_name": "ProgressStyleModel",
            "description_width": "",
            "_view_module": "@jupyter-widgets/base",
            "_model_module_version": "1.5.0",
            "_view_count": null,
            "_view_module_version": "1.2.0",
            "bar_color": null,
            "_model_module": "@jupyter-widgets/controls"
          }
        },
        "b607cf7b0fae44cfa5208bd55ca66bd3": {
          "model_module": "@jupyter-widgets/base",
          "model_name": "LayoutModel",
          "state": {
            "_view_name": "LayoutView",
            "grid_template_rows": null,
            "right": null,
            "justify_content": null,
            "_view_module": "@jupyter-widgets/base",
            "overflow": null,
            "_model_module_version": "1.2.0",
            "_view_count": null,
            "flex_flow": null,
            "width": null,
            "min_width": null,
            "border": null,
            "align_items": null,
            "bottom": null,
            "_model_module": "@jupyter-widgets/base",
            "top": null,
            "grid_column": null,
            "overflow_y": null,
            "overflow_x": null,
            "grid_auto_flow": null,
            "grid_area": null,
            "grid_template_columns": null,
            "flex": null,
            "_model_name": "LayoutModel",
            "justify_items": null,
            "grid_row": null,
            "max_height": null,
            "align_content": null,
            "visibility": null,
            "align_self": null,
            "height": null,
            "min_height": null,
            "padding": null,
            "grid_auto_rows": null,
            "grid_gap": null,
            "max_width": null,
            "order": null,
            "_view_module_version": "1.2.0",
            "grid_template_areas": null,
            "object_position": null,
            "object_fit": null,
            "grid_auto_columns": null,
            "margin": null,
            "display": null,
            "left": null
          }
        },
        "d0edb2286b564fb4b7a646476436e132": {
          "model_module": "@jupyter-widgets/controls",
          "model_name": "DescriptionStyleModel",
          "state": {
            "_view_name": "StyleView",
            "_model_name": "DescriptionStyleModel",
            "description_width": "",
            "_view_module": "@jupyter-widgets/base",
            "_model_module_version": "1.5.0",
            "_view_count": null,
            "_view_module_version": "1.2.0",
            "_model_module": "@jupyter-widgets/controls"
          }
        },
        "1033194b68aa4bdc9c0cf7c092d50a0d": {
          "model_module": "@jupyter-widgets/base",
          "model_name": "LayoutModel",
          "state": {
            "_view_name": "LayoutView",
            "grid_template_rows": null,
            "right": null,
            "justify_content": null,
            "_view_module": "@jupyter-widgets/base",
            "overflow": null,
            "_model_module_version": "1.2.0",
            "_view_count": null,
            "flex_flow": null,
            "width": null,
            "min_width": null,
            "border": null,
            "align_items": null,
            "bottom": null,
            "_model_module": "@jupyter-widgets/base",
            "top": null,
            "grid_column": null,
            "overflow_y": null,
            "overflow_x": null,
            "grid_auto_flow": null,
            "grid_area": null,
            "grid_template_columns": null,
            "flex": null,
            "_model_name": "LayoutModel",
            "justify_items": null,
            "grid_row": null,
            "max_height": null,
            "align_content": null,
            "visibility": null,
            "align_self": null,
            "height": null,
            "min_height": null,
            "padding": null,
            "grid_auto_rows": null,
            "grid_gap": null,
            "max_width": null,
            "order": null,
            "_view_module_version": "1.2.0",
            "grid_template_areas": null,
            "object_position": null,
            "object_fit": null,
            "grid_auto_columns": null,
            "margin": null,
            "display": null,
            "left": null
          }
        },
        "f041d94bb0cc49f78e70cb2e0aed779a": {
          "model_module": "@jupyter-widgets/controls",
          "model_name": "HBoxModel",
          "state": {
            "_view_name": "HBoxView",
            "_dom_classes": [],
            "_model_name": "HBoxModel",
            "_view_module": "@jupyter-widgets/controls",
            "_model_module_version": "1.5.0",
            "_view_count": null,
            "_view_module_version": "1.5.0",
            "box_style": "",
            "layout": "IPY_MODEL_f5a7b346a51c435c94f9e7756258b20b",
            "_model_module": "@jupyter-widgets/controls",
            "children": [
              "IPY_MODEL_55061308a7a64e6788707ec807cb4e7e",
              "IPY_MODEL_b4049328a24a4c81be2329717af12389"
            ]
          }
        },
        "f5a7b346a51c435c94f9e7756258b20b": {
          "model_module": "@jupyter-widgets/base",
          "model_name": "LayoutModel",
          "state": {
            "_view_name": "LayoutView",
            "grid_template_rows": null,
            "right": null,
            "justify_content": null,
            "_view_module": "@jupyter-widgets/base",
            "overflow": null,
            "_model_module_version": "1.2.0",
            "_view_count": null,
            "flex_flow": null,
            "width": null,
            "min_width": null,
            "border": null,
            "align_items": null,
            "bottom": null,
            "_model_module": "@jupyter-widgets/base",
            "top": null,
            "grid_column": null,
            "overflow_y": null,
            "overflow_x": null,
            "grid_auto_flow": null,
            "grid_area": null,
            "grid_template_columns": null,
            "flex": null,
            "_model_name": "LayoutModel",
            "justify_items": null,
            "grid_row": null,
            "max_height": null,
            "align_content": null,
            "visibility": null,
            "align_self": null,
            "height": null,
            "min_height": null,
            "padding": null,
            "grid_auto_rows": null,
            "grid_gap": null,
            "max_width": null,
            "order": null,
            "_view_module_version": "1.2.0",
            "grid_template_areas": null,
            "object_position": null,
            "object_fit": null,
            "grid_auto_columns": null,
            "margin": null,
            "display": null,
            "left": null
          }
        },
        "55061308a7a64e6788707ec807cb4e7e": {
          "model_module": "@jupyter-widgets/controls",
          "model_name": "IntProgressModel",
          "state": {
            "_view_name": "ProgressView",
            "style": "IPY_MODEL_75d86edfce0a4457a1bb593b0e9fe040",
            "_dom_classes": [],
            "description": "",
            "_model_name": "IntProgressModel",
            "bar_style": "success",
            "max": 1,
            "_view_module": "@jupyter-widgets/controls",
            "_model_module_version": "1.5.0",
            "value": 1,
            "_view_count": null,
            "_view_module_version": "1.5.0",
            "orientation": "horizontal",
            "min": 0,
            "description_tooltip": null,
            "_model_module": "@jupyter-widgets/controls",
            "layout": "IPY_MODEL_281fadd9c2bf432ba4a2083dd552ffbb"
          }
        },
        "b4049328a24a4c81be2329717af12389": {
          "model_module": "@jupyter-widgets/controls",
          "model_name": "HTMLModel",
          "state": {
            "_view_name": "HTMLView",
            "style": "IPY_MODEL_4d0e2824e45a4cd2aa420cfa2ed536b0",
            "_dom_classes": [],
            "description": "",
            "_model_name": "HTMLModel",
            "placeholder": "​",
            "_view_module": "@jupyter-widgets/controls",
            "_model_module_version": "1.5.0",
            "value": "32768it [00:00, 104072.96it/s]",
            "_view_count": null,
            "_view_module_version": "1.5.0",
            "description_tooltip": null,
            "_model_module": "@jupyter-widgets/controls",
            "layout": "IPY_MODEL_101ce312d16c4ef78d73917839940278"
          }
        },
        "75d86edfce0a4457a1bb593b0e9fe040": {
          "model_module": "@jupyter-widgets/controls",
          "model_name": "ProgressStyleModel",
          "state": {
            "_view_name": "StyleView",
            "_model_name": "ProgressStyleModel",
            "description_width": "",
            "_view_module": "@jupyter-widgets/base",
            "_model_module_version": "1.5.0",
            "_view_count": null,
            "_view_module_version": "1.2.0",
            "bar_color": null,
            "_model_module": "@jupyter-widgets/controls"
          }
        },
        "281fadd9c2bf432ba4a2083dd552ffbb": {
          "model_module": "@jupyter-widgets/base",
          "model_name": "LayoutModel",
          "state": {
            "_view_name": "LayoutView",
            "grid_template_rows": null,
            "right": null,
            "justify_content": null,
            "_view_module": "@jupyter-widgets/base",
            "overflow": null,
            "_model_module_version": "1.2.0",
            "_view_count": null,
            "flex_flow": null,
            "width": null,
            "min_width": null,
            "border": null,
            "align_items": null,
            "bottom": null,
            "_model_module": "@jupyter-widgets/base",
            "top": null,
            "grid_column": null,
            "overflow_y": null,
            "overflow_x": null,
            "grid_auto_flow": null,
            "grid_area": null,
            "grid_template_columns": null,
            "flex": null,
            "_model_name": "LayoutModel",
            "justify_items": null,
            "grid_row": null,
            "max_height": null,
            "align_content": null,
            "visibility": null,
            "align_self": null,
            "height": null,
            "min_height": null,
            "padding": null,
            "grid_auto_rows": null,
            "grid_gap": null,
            "max_width": null,
            "order": null,
            "_view_module_version": "1.2.0",
            "grid_template_areas": null,
            "object_position": null,
            "object_fit": null,
            "grid_auto_columns": null,
            "margin": null,
            "display": null,
            "left": null
          }
        },
        "4d0e2824e45a4cd2aa420cfa2ed536b0": {
          "model_module": "@jupyter-widgets/controls",
          "model_name": "DescriptionStyleModel",
          "state": {
            "_view_name": "StyleView",
            "_model_name": "DescriptionStyleModel",
            "description_width": "",
            "_view_module": "@jupyter-widgets/base",
            "_model_module_version": "1.5.0",
            "_view_count": null,
            "_view_module_version": "1.2.0",
            "_model_module": "@jupyter-widgets/controls"
          }
        },
        "101ce312d16c4ef78d73917839940278": {
          "model_module": "@jupyter-widgets/base",
          "model_name": "LayoutModel",
          "state": {
            "_view_name": "LayoutView",
            "grid_template_rows": null,
            "right": null,
            "justify_content": null,
            "_view_module": "@jupyter-widgets/base",
            "overflow": null,
            "_model_module_version": "1.2.0",
            "_view_count": null,
            "flex_flow": null,
            "width": null,
            "min_width": null,
            "border": null,
            "align_items": null,
            "bottom": null,
            "_model_module": "@jupyter-widgets/base",
            "top": null,
            "grid_column": null,
            "overflow_y": null,
            "overflow_x": null,
            "grid_auto_flow": null,
            "grid_area": null,
            "grid_template_columns": null,
            "flex": null,
            "_model_name": "LayoutModel",
            "justify_items": null,
            "grid_row": null,
            "max_height": null,
            "align_content": null,
            "visibility": null,
            "align_self": null,
            "height": null,
            "min_height": null,
            "padding": null,
            "grid_auto_rows": null,
            "grid_gap": null,
            "max_width": null,
            "order": null,
            "_view_module_version": "1.2.0",
            "grid_template_areas": null,
            "object_position": null,
            "object_fit": null,
            "grid_auto_columns": null,
            "margin": null,
            "display": null,
            "left": null
          }
        },
        "80492fc2e7a54995a6450d683579482c": {
          "model_module": "@jupyter-widgets/controls",
          "model_name": "HBoxModel",
          "state": {
            "_view_name": "HBoxView",
            "_dom_classes": [],
            "_model_name": "HBoxModel",
            "_view_module": "@jupyter-widgets/controls",
            "_model_module_version": "1.5.0",
            "_view_count": null,
            "_view_module_version": "1.5.0",
            "box_style": "",
            "layout": "IPY_MODEL_1829b7c43714460cac394c18c7c43581",
            "_model_module": "@jupyter-widgets/controls",
            "children": [
              "IPY_MODEL_b2209219543143d183867c245fdfdb2f",
              "IPY_MODEL_8f56fd76dceb4d0dac6e807cf1f5865e"
            ]
          }
        },
        "1829b7c43714460cac394c18c7c43581": {
          "model_module": "@jupyter-widgets/base",
          "model_name": "LayoutModel",
          "state": {
            "_view_name": "LayoutView",
            "grid_template_rows": null,
            "right": null,
            "justify_content": null,
            "_view_module": "@jupyter-widgets/base",
            "overflow": null,
            "_model_module_version": "1.2.0",
            "_view_count": null,
            "flex_flow": null,
            "width": null,
            "min_width": null,
            "border": null,
            "align_items": null,
            "bottom": null,
            "_model_module": "@jupyter-widgets/base",
            "top": null,
            "grid_column": null,
            "overflow_y": null,
            "overflow_x": null,
            "grid_auto_flow": null,
            "grid_area": null,
            "grid_template_columns": null,
            "flex": null,
            "_model_name": "LayoutModel",
            "justify_items": null,
            "grid_row": null,
            "max_height": null,
            "align_content": null,
            "visibility": null,
            "align_self": null,
            "height": null,
            "min_height": null,
            "padding": null,
            "grid_auto_rows": null,
            "grid_gap": null,
            "max_width": null,
            "order": null,
            "_view_module_version": "1.2.0",
            "grid_template_areas": null,
            "object_position": null,
            "object_fit": null,
            "grid_auto_columns": null,
            "margin": null,
            "display": null,
            "left": null
          }
        },
        "b2209219543143d183867c245fdfdb2f": {
          "model_module": "@jupyter-widgets/controls",
          "model_name": "IntProgressModel",
          "state": {
            "_view_name": "ProgressView",
            "style": "IPY_MODEL_df16917e2a03444cb3739a549f48372f",
            "_dom_classes": [],
            "description": "",
            "_model_name": "IntProgressModel",
            "bar_style": "success",
            "max": 1,
            "_view_module": "@jupyter-widgets/controls",
            "_model_module_version": "1.5.0",
            "value": 1,
            "_view_count": null,
            "_view_module_version": "1.5.0",
            "orientation": "horizontal",
            "min": 0,
            "description_tooltip": null,
            "_model_module": "@jupyter-widgets/controls",
            "layout": "IPY_MODEL_44cdbac4509f4ed18eacfc67eb30b3f5"
          }
        },
        "8f56fd76dceb4d0dac6e807cf1f5865e": {
          "model_module": "@jupyter-widgets/controls",
          "model_name": "HTMLModel",
          "state": {
            "_view_name": "HTMLView",
            "style": "IPY_MODEL_578859080a3043b18df088c1bef1cd18",
            "_dom_classes": [],
            "description": "",
            "_model_name": "HTMLModel",
            "placeholder": "​",
            "_view_module": "@jupyter-widgets/controls",
            "_model_module_version": "1.5.0",
            "value": "1654784it [00:00, 2253006.91it/s]",
            "_view_count": null,
            "_view_module_version": "1.5.0",
            "description_tooltip": null,
            "_model_module": "@jupyter-widgets/controls",
            "layout": "IPY_MODEL_89d21778a9fe44c389e81dfc2502cea8"
          }
        },
        "df16917e2a03444cb3739a549f48372f": {
          "model_module": "@jupyter-widgets/controls",
          "model_name": "ProgressStyleModel",
          "state": {
            "_view_name": "StyleView",
            "_model_name": "ProgressStyleModel",
            "description_width": "",
            "_view_module": "@jupyter-widgets/base",
            "_model_module_version": "1.5.0",
            "_view_count": null,
            "_view_module_version": "1.2.0",
            "bar_color": null,
            "_model_module": "@jupyter-widgets/controls"
          }
        },
        "44cdbac4509f4ed18eacfc67eb30b3f5": {
          "model_module": "@jupyter-widgets/base",
          "model_name": "LayoutModel",
          "state": {
            "_view_name": "LayoutView",
            "grid_template_rows": null,
            "right": null,
            "justify_content": null,
            "_view_module": "@jupyter-widgets/base",
            "overflow": null,
            "_model_module_version": "1.2.0",
            "_view_count": null,
            "flex_flow": null,
            "width": null,
            "min_width": null,
            "border": null,
            "align_items": null,
            "bottom": null,
            "_model_module": "@jupyter-widgets/base",
            "top": null,
            "grid_column": null,
            "overflow_y": null,
            "overflow_x": null,
            "grid_auto_flow": null,
            "grid_area": null,
            "grid_template_columns": null,
            "flex": null,
            "_model_name": "LayoutModel",
            "justify_items": null,
            "grid_row": null,
            "max_height": null,
            "align_content": null,
            "visibility": null,
            "align_self": null,
            "height": null,
            "min_height": null,
            "padding": null,
            "grid_auto_rows": null,
            "grid_gap": null,
            "max_width": null,
            "order": null,
            "_view_module_version": "1.2.0",
            "grid_template_areas": null,
            "object_position": null,
            "object_fit": null,
            "grid_auto_columns": null,
            "margin": null,
            "display": null,
            "left": null
          }
        },
        "578859080a3043b18df088c1bef1cd18": {
          "model_module": "@jupyter-widgets/controls",
          "model_name": "DescriptionStyleModel",
          "state": {
            "_view_name": "StyleView",
            "_model_name": "DescriptionStyleModel",
            "description_width": "",
            "_view_module": "@jupyter-widgets/base",
            "_model_module_version": "1.5.0",
            "_view_count": null,
            "_view_module_version": "1.2.0",
            "_model_module": "@jupyter-widgets/controls"
          }
        },
        "89d21778a9fe44c389e81dfc2502cea8": {
          "model_module": "@jupyter-widgets/base",
          "model_name": "LayoutModel",
          "state": {
            "_view_name": "LayoutView",
            "grid_template_rows": null,
            "right": null,
            "justify_content": null,
            "_view_module": "@jupyter-widgets/base",
            "overflow": null,
            "_model_module_version": "1.2.0",
            "_view_count": null,
            "flex_flow": null,
            "width": null,
            "min_width": null,
            "border": null,
            "align_items": null,
            "bottom": null,
            "_model_module": "@jupyter-widgets/base",
            "top": null,
            "grid_column": null,
            "overflow_y": null,
            "overflow_x": null,
            "grid_auto_flow": null,
            "grid_area": null,
            "grid_template_columns": null,
            "flex": null,
            "_model_name": "LayoutModel",
            "justify_items": null,
            "grid_row": null,
            "max_height": null,
            "align_content": null,
            "visibility": null,
            "align_self": null,
            "height": null,
            "min_height": null,
            "padding": null,
            "grid_auto_rows": null,
            "grid_gap": null,
            "max_width": null,
            "order": null,
            "_view_module_version": "1.2.0",
            "grid_template_areas": null,
            "object_position": null,
            "object_fit": null,
            "grid_auto_columns": null,
            "margin": null,
            "display": null,
            "left": null
          }
        },
        "05ab6f2f8cfa496a8a983dec18510e79": {
          "model_module": "@jupyter-widgets/controls",
          "model_name": "HBoxModel",
          "state": {
            "_view_name": "HBoxView",
            "_dom_classes": [],
            "_model_name": "HBoxModel",
            "_view_module": "@jupyter-widgets/controls",
            "_model_module_version": "1.5.0",
            "_view_count": null,
            "_view_module_version": "1.5.0",
            "box_style": "",
            "layout": "IPY_MODEL_e0082b6cdbf3448b95301d679cfb2fec",
            "_model_module": "@jupyter-widgets/controls",
            "children": [
              "IPY_MODEL_e7281f4f4e1f40a9b26cb689a37813a6",
              "IPY_MODEL_88313bb5fb624cc48de99101f20d0bb2"
            ]
          }
        },
        "e0082b6cdbf3448b95301d679cfb2fec": {
          "model_module": "@jupyter-widgets/base",
          "model_name": "LayoutModel",
          "state": {
            "_view_name": "LayoutView",
            "grid_template_rows": null,
            "right": null,
            "justify_content": null,
            "_view_module": "@jupyter-widgets/base",
            "overflow": null,
            "_model_module_version": "1.2.0",
            "_view_count": null,
            "flex_flow": null,
            "width": null,
            "min_width": null,
            "border": null,
            "align_items": null,
            "bottom": null,
            "_model_module": "@jupyter-widgets/base",
            "top": null,
            "grid_column": null,
            "overflow_y": null,
            "overflow_x": null,
            "grid_auto_flow": null,
            "grid_area": null,
            "grid_template_columns": null,
            "flex": null,
            "_model_name": "LayoutModel",
            "justify_items": null,
            "grid_row": null,
            "max_height": null,
            "align_content": null,
            "visibility": null,
            "align_self": null,
            "height": null,
            "min_height": null,
            "padding": null,
            "grid_auto_rows": null,
            "grid_gap": null,
            "max_width": null,
            "order": null,
            "_view_module_version": "1.2.0",
            "grid_template_areas": null,
            "object_position": null,
            "object_fit": null,
            "grid_auto_columns": null,
            "margin": null,
            "display": null,
            "left": null
          }
        },
        "e7281f4f4e1f40a9b26cb689a37813a6": {
          "model_module": "@jupyter-widgets/controls",
          "model_name": "IntProgressModel",
          "state": {
            "_view_name": "ProgressView",
            "style": "IPY_MODEL_95feb0230a77492ea041630f3f5d5590",
            "_dom_classes": [],
            "description": "",
            "_model_name": "IntProgressModel",
            "bar_style": "success",
            "max": 1,
            "_view_module": "@jupyter-widgets/controls",
            "_model_module_version": "1.5.0",
            "value": 1,
            "_view_count": null,
            "_view_module_version": "1.5.0",
            "orientation": "horizontal",
            "min": 0,
            "description_tooltip": null,
            "_model_module": "@jupyter-widgets/controls",
            "layout": "IPY_MODEL_469865b6e3d645d18aa0925216134218"
          }
        },
        "88313bb5fb624cc48de99101f20d0bb2": {
          "model_module": "@jupyter-widgets/controls",
          "model_name": "HTMLModel",
          "state": {
            "_view_name": "HTMLView",
            "style": "IPY_MODEL_874bbe2b23524504a6b4c5b25dcb3131",
            "_dom_classes": [],
            "description": "",
            "_model_name": "HTMLModel",
            "placeholder": "​",
            "_view_module": "@jupyter-widgets/controls",
            "_model_module_version": "1.5.0",
            "value": "8192it [00:00, 37807.02it/s]",
            "_view_count": null,
            "_view_module_version": "1.5.0",
            "description_tooltip": null,
            "_model_module": "@jupyter-widgets/controls",
            "layout": "IPY_MODEL_f14a0dd118d44377983e4351bd8e5d53"
          }
        },
        "95feb0230a77492ea041630f3f5d5590": {
          "model_module": "@jupyter-widgets/controls",
          "model_name": "ProgressStyleModel",
          "state": {
            "_view_name": "StyleView",
            "_model_name": "ProgressStyleModel",
            "description_width": "",
            "_view_module": "@jupyter-widgets/base",
            "_model_module_version": "1.5.0",
            "_view_count": null,
            "_view_module_version": "1.2.0",
            "bar_color": null,
            "_model_module": "@jupyter-widgets/controls"
          }
        },
        "469865b6e3d645d18aa0925216134218": {
          "model_module": "@jupyter-widgets/base",
          "model_name": "LayoutModel",
          "state": {
            "_view_name": "LayoutView",
            "grid_template_rows": null,
            "right": null,
            "justify_content": null,
            "_view_module": "@jupyter-widgets/base",
            "overflow": null,
            "_model_module_version": "1.2.0",
            "_view_count": null,
            "flex_flow": null,
            "width": null,
            "min_width": null,
            "border": null,
            "align_items": null,
            "bottom": null,
            "_model_module": "@jupyter-widgets/base",
            "top": null,
            "grid_column": null,
            "overflow_y": null,
            "overflow_x": null,
            "grid_auto_flow": null,
            "grid_area": null,
            "grid_template_columns": null,
            "flex": null,
            "_model_name": "LayoutModel",
            "justify_items": null,
            "grid_row": null,
            "max_height": null,
            "align_content": null,
            "visibility": null,
            "align_self": null,
            "height": null,
            "min_height": null,
            "padding": null,
            "grid_auto_rows": null,
            "grid_gap": null,
            "max_width": null,
            "order": null,
            "_view_module_version": "1.2.0",
            "grid_template_areas": null,
            "object_position": null,
            "object_fit": null,
            "grid_auto_columns": null,
            "margin": null,
            "display": null,
            "left": null
          }
        },
        "874bbe2b23524504a6b4c5b25dcb3131": {
          "model_module": "@jupyter-widgets/controls",
          "model_name": "DescriptionStyleModel",
          "state": {
            "_view_name": "StyleView",
            "_model_name": "DescriptionStyleModel",
            "description_width": "",
            "_view_module": "@jupyter-widgets/base",
            "_model_module_version": "1.5.0",
            "_view_count": null,
            "_view_module_version": "1.2.0",
            "_model_module": "@jupyter-widgets/controls"
          }
        },
        "f14a0dd118d44377983e4351bd8e5d53": {
          "model_module": "@jupyter-widgets/base",
          "model_name": "LayoutModel",
          "state": {
            "_view_name": "LayoutView",
            "grid_template_rows": null,
            "right": null,
            "justify_content": null,
            "_view_module": "@jupyter-widgets/base",
            "overflow": null,
            "_model_module_version": "1.2.0",
            "_view_count": null,
            "flex_flow": null,
            "width": null,
            "min_width": null,
            "border": null,
            "align_items": null,
            "bottom": null,
            "_model_module": "@jupyter-widgets/base",
            "top": null,
            "grid_column": null,
            "overflow_y": null,
            "overflow_x": null,
            "grid_auto_flow": null,
            "grid_area": null,
            "grid_template_columns": null,
            "flex": null,
            "_model_name": "LayoutModel",
            "justify_items": null,
            "grid_row": null,
            "max_height": null,
            "align_content": null,
            "visibility": null,
            "align_self": null,
            "height": null,
            "min_height": null,
            "padding": null,
            "grid_auto_rows": null,
            "grid_gap": null,
            "max_width": null,
            "order": null,
            "_view_module_version": "1.2.0",
            "grid_template_areas": null,
            "object_position": null,
            "object_fit": null,
            "grid_auto_columns": null,
            "margin": null,
            "display": null,
            "left": null
          }
        },
        "c3b3f60328a442c2bf75801bcdc0e61f": {
          "model_module": "@jupyter-widgets/controls",
          "model_name": "HBoxModel",
          "state": {
            "_view_name": "HBoxView",
            "_dom_classes": [],
            "_model_name": "HBoxModel",
            "_view_module": "@jupyter-widgets/controls",
            "_model_module_version": "1.5.0",
            "_view_count": null,
            "_view_module_version": "1.5.0",
            "box_style": "",
            "layout": "IPY_MODEL_81869386b1a44e20bd4cd030b1f30f1e",
            "_model_module": "@jupyter-widgets/controls",
            "children": [
              "IPY_MODEL_7500fb9fa707486aa84053f845fd4691",
              "IPY_MODEL_5ca446d812d84813a5a97a811d72aeb5"
            ]
          }
        },
        "81869386b1a44e20bd4cd030b1f30f1e": {
          "model_module": "@jupyter-widgets/base",
          "model_name": "LayoutModel",
          "state": {
            "_view_name": "LayoutView",
            "grid_template_rows": null,
            "right": null,
            "justify_content": null,
            "_view_module": "@jupyter-widgets/base",
            "overflow": null,
            "_model_module_version": "1.2.0",
            "_view_count": null,
            "flex_flow": null,
            "width": null,
            "min_width": null,
            "border": null,
            "align_items": null,
            "bottom": null,
            "_model_module": "@jupyter-widgets/base",
            "top": null,
            "grid_column": null,
            "overflow_y": null,
            "overflow_x": null,
            "grid_auto_flow": null,
            "grid_area": null,
            "grid_template_columns": null,
            "flex": null,
            "_model_name": "LayoutModel",
            "justify_items": null,
            "grid_row": null,
            "max_height": null,
            "align_content": null,
            "visibility": null,
            "align_self": null,
            "height": null,
            "min_height": null,
            "padding": null,
            "grid_auto_rows": null,
            "grid_gap": null,
            "max_width": null,
            "order": null,
            "_view_module_version": "1.2.0",
            "grid_template_areas": null,
            "object_position": null,
            "object_fit": null,
            "grid_auto_columns": null,
            "margin": null,
            "display": null,
            "left": null
          }
        },
        "7500fb9fa707486aa84053f845fd4691": {
          "model_module": "@jupyter-widgets/controls",
          "model_name": "IntProgressModel",
          "state": {
            "_view_name": "ProgressView",
            "style": "IPY_MODEL_566b56c1ef87429c8c402d2f31fbc6b6",
            "_dom_classes": [],
            "description": "",
            "_model_name": "IntProgressModel",
            "bar_style": "success",
            "max": 1,
            "_view_module": "@jupyter-widgets/controls",
            "_model_module_version": "1.5.0",
            "value": 1,
            "_view_count": null,
            "_view_module_version": "1.5.0",
            "orientation": "horizontal",
            "min": 0,
            "description_tooltip": null,
            "_model_module": "@jupyter-widgets/controls",
            "layout": "IPY_MODEL_5c1ce39f18544a64a9760ed4c01a948c"
          }
        },
        "5ca446d812d84813a5a97a811d72aeb5": {
          "model_module": "@jupyter-widgets/controls",
          "model_name": "HTMLModel",
          "state": {
            "_view_name": "HTMLView",
            "style": "IPY_MODEL_26a036190beb43b48a14ac86ff6e7f67",
            "_dom_classes": [],
            "description": "",
            "_model_name": "HTMLModel",
            "placeholder": "​",
            "_view_module": "@jupyter-widgets/controls",
            "_model_module_version": "1.5.0",
            "value": "26427392it [00:00, 78969615.30it/s]",
            "_view_count": null,
            "_view_module_version": "1.5.0",
            "description_tooltip": null,
            "_model_module": "@jupyter-widgets/controls",
            "layout": "IPY_MODEL_cb605e1241f945d89827001123d030da"
          }
        },
        "566b56c1ef87429c8c402d2f31fbc6b6": {
          "model_module": "@jupyter-widgets/controls",
          "model_name": "ProgressStyleModel",
          "state": {
            "_view_name": "StyleView",
            "_model_name": "ProgressStyleModel",
            "description_width": "",
            "_view_module": "@jupyter-widgets/base",
            "_model_module_version": "1.5.0",
            "_view_count": null,
            "_view_module_version": "1.2.0",
            "bar_color": null,
            "_model_module": "@jupyter-widgets/controls"
          }
        },
        "5c1ce39f18544a64a9760ed4c01a948c": {
          "model_module": "@jupyter-widgets/base",
          "model_name": "LayoutModel",
          "state": {
            "_view_name": "LayoutView",
            "grid_template_rows": null,
            "right": null,
            "justify_content": null,
            "_view_module": "@jupyter-widgets/base",
            "overflow": null,
            "_model_module_version": "1.2.0",
            "_view_count": null,
            "flex_flow": null,
            "width": null,
            "min_width": null,
            "border": null,
            "align_items": null,
            "bottom": null,
            "_model_module": "@jupyter-widgets/base",
            "top": null,
            "grid_column": null,
            "overflow_y": null,
            "overflow_x": null,
            "grid_auto_flow": null,
            "grid_area": null,
            "grid_template_columns": null,
            "flex": null,
            "_model_name": "LayoutModel",
            "justify_items": null,
            "grid_row": null,
            "max_height": null,
            "align_content": null,
            "visibility": null,
            "align_self": null,
            "height": null,
            "min_height": null,
            "padding": null,
            "grid_auto_rows": null,
            "grid_gap": null,
            "max_width": null,
            "order": null,
            "_view_module_version": "1.2.0",
            "grid_template_areas": null,
            "object_position": null,
            "object_fit": null,
            "grid_auto_columns": null,
            "margin": null,
            "display": null,
            "left": null
          }
        },
        "26a036190beb43b48a14ac86ff6e7f67": {
          "model_module": "@jupyter-widgets/controls",
          "model_name": "DescriptionStyleModel",
          "state": {
            "_view_name": "StyleView",
            "_model_name": "DescriptionStyleModel",
            "description_width": "",
            "_view_module": "@jupyter-widgets/base",
            "_model_module_version": "1.5.0",
            "_view_count": null,
            "_view_module_version": "1.2.0",
            "_model_module": "@jupyter-widgets/controls"
          }
        },
        "cb605e1241f945d89827001123d030da": {
          "model_module": "@jupyter-widgets/base",
          "model_name": "LayoutModel",
          "state": {
            "_view_name": "LayoutView",
            "grid_template_rows": null,
            "right": null,
            "justify_content": null,
            "_view_module": "@jupyter-widgets/base",
            "overflow": null,
            "_model_module_version": "1.2.0",
            "_view_count": null,
            "flex_flow": null,
            "width": null,
            "min_width": null,
            "border": null,
            "align_items": null,
            "bottom": null,
            "_model_module": "@jupyter-widgets/base",
            "top": null,
            "grid_column": null,
            "overflow_y": null,
            "overflow_x": null,
            "grid_auto_flow": null,
            "grid_area": null,
            "grid_template_columns": null,
            "flex": null,
            "_model_name": "LayoutModel",
            "justify_items": null,
            "grid_row": null,
            "max_height": null,
            "align_content": null,
            "visibility": null,
            "align_self": null,
            "height": null,
            "min_height": null,
            "padding": null,
            "grid_auto_rows": null,
            "grid_gap": null,
            "max_width": null,
            "order": null,
            "_view_module_version": "1.2.0",
            "grid_template_areas": null,
            "object_position": null,
            "object_fit": null,
            "grid_auto_columns": null,
            "margin": null,
            "display": null,
            "left": null
          }
        },
        "273a5f3fdb4e4217b8cb0db73ee4e359": {
          "model_module": "@jupyter-widgets/controls",
          "model_name": "HBoxModel",
          "state": {
            "_view_name": "HBoxView",
            "_dom_classes": [],
            "_model_name": "HBoxModel",
            "_view_module": "@jupyter-widgets/controls",
            "_model_module_version": "1.5.0",
            "_view_count": null,
            "_view_module_version": "1.5.0",
            "box_style": "",
            "layout": "IPY_MODEL_5170c9a23b5d4f85b97638c81a4738fd",
            "_model_module": "@jupyter-widgets/controls",
            "children": [
              "IPY_MODEL_a95a88cf4598475495755afef36268e4",
              "IPY_MODEL_5ac7d0dae17c4838a72579ef403ddd94"
            ]
          }
        },
        "5170c9a23b5d4f85b97638c81a4738fd": {
          "model_module": "@jupyter-widgets/base",
          "model_name": "LayoutModel",
          "state": {
            "_view_name": "LayoutView",
            "grid_template_rows": null,
            "right": null,
            "justify_content": null,
            "_view_module": "@jupyter-widgets/base",
            "overflow": null,
            "_model_module_version": "1.2.0",
            "_view_count": null,
            "flex_flow": null,
            "width": null,
            "min_width": null,
            "border": null,
            "align_items": null,
            "bottom": null,
            "_model_module": "@jupyter-widgets/base",
            "top": null,
            "grid_column": null,
            "overflow_y": null,
            "overflow_x": null,
            "grid_auto_flow": null,
            "grid_area": null,
            "grid_template_columns": null,
            "flex": null,
            "_model_name": "LayoutModel",
            "justify_items": null,
            "grid_row": null,
            "max_height": null,
            "align_content": null,
            "visibility": null,
            "align_self": null,
            "height": null,
            "min_height": null,
            "padding": null,
            "grid_auto_rows": null,
            "grid_gap": null,
            "max_width": null,
            "order": null,
            "_view_module_version": "1.2.0",
            "grid_template_areas": null,
            "object_position": null,
            "object_fit": null,
            "grid_auto_columns": null,
            "margin": null,
            "display": null,
            "left": null
          }
        },
        "a95a88cf4598475495755afef36268e4": {
          "model_module": "@jupyter-widgets/controls",
          "model_name": "IntProgressModel",
          "state": {
            "_view_name": "ProgressView",
            "style": "IPY_MODEL_ad7d49ba555f4d258f9216246eeeacb6",
            "_dom_classes": [],
            "description": "",
            "_model_name": "IntProgressModel",
            "bar_style": "success",
            "max": 1,
            "_view_module": "@jupyter-widgets/controls",
            "_model_module_version": "1.5.0",
            "value": 1,
            "_view_count": null,
            "_view_module_version": "1.5.0",
            "orientation": "horizontal",
            "min": 0,
            "description_tooltip": null,
            "_model_module": "@jupyter-widgets/controls",
            "layout": "IPY_MODEL_260daeb5edd54f1caa2c4f4ac1fa45ac"
          }
        },
        "5ac7d0dae17c4838a72579ef403ddd94": {
          "model_module": "@jupyter-widgets/controls",
          "model_name": "HTMLModel",
          "state": {
            "_view_name": "HTMLView",
            "style": "IPY_MODEL_01dd722ca5c2441dac493a57f2d66cda",
            "_dom_classes": [],
            "description": "",
            "_model_name": "HTMLModel",
            "placeholder": "​",
            "_view_module": "@jupyter-widgets/controls",
            "_model_module_version": "1.5.0",
            "value": "32768it [00:00, 258218.19it/s]",
            "_view_count": null,
            "_view_module_version": "1.5.0",
            "description_tooltip": null,
            "_model_module": "@jupyter-widgets/controls",
            "layout": "IPY_MODEL_aac8157d874347638657238bd8c06799"
          }
        },
        "ad7d49ba555f4d258f9216246eeeacb6": {
          "model_module": "@jupyter-widgets/controls",
          "model_name": "ProgressStyleModel",
          "state": {
            "_view_name": "StyleView",
            "_model_name": "ProgressStyleModel",
            "description_width": "",
            "_view_module": "@jupyter-widgets/base",
            "_model_module_version": "1.5.0",
            "_view_count": null,
            "_view_module_version": "1.2.0",
            "bar_color": null,
            "_model_module": "@jupyter-widgets/controls"
          }
        },
        "260daeb5edd54f1caa2c4f4ac1fa45ac": {
          "model_module": "@jupyter-widgets/base",
          "model_name": "LayoutModel",
          "state": {
            "_view_name": "LayoutView",
            "grid_template_rows": null,
            "right": null,
            "justify_content": null,
            "_view_module": "@jupyter-widgets/base",
            "overflow": null,
            "_model_module_version": "1.2.0",
            "_view_count": null,
            "flex_flow": null,
            "width": null,
            "min_width": null,
            "border": null,
            "align_items": null,
            "bottom": null,
            "_model_module": "@jupyter-widgets/base",
            "top": null,
            "grid_column": null,
            "overflow_y": null,
            "overflow_x": null,
            "grid_auto_flow": null,
            "grid_area": null,
            "grid_template_columns": null,
            "flex": null,
            "_model_name": "LayoutModel",
            "justify_items": null,
            "grid_row": null,
            "max_height": null,
            "align_content": null,
            "visibility": null,
            "align_self": null,
            "height": null,
            "min_height": null,
            "padding": null,
            "grid_auto_rows": null,
            "grid_gap": null,
            "max_width": null,
            "order": null,
            "_view_module_version": "1.2.0",
            "grid_template_areas": null,
            "object_position": null,
            "object_fit": null,
            "grid_auto_columns": null,
            "margin": null,
            "display": null,
            "left": null
          }
        },
        "01dd722ca5c2441dac493a57f2d66cda": {
          "model_module": "@jupyter-widgets/controls",
          "model_name": "DescriptionStyleModel",
          "state": {
            "_view_name": "StyleView",
            "_model_name": "DescriptionStyleModel",
            "description_width": "",
            "_view_module": "@jupyter-widgets/base",
            "_model_module_version": "1.5.0",
            "_view_count": null,
            "_view_module_version": "1.2.0",
            "_model_module": "@jupyter-widgets/controls"
          }
        },
        "aac8157d874347638657238bd8c06799": {
          "model_module": "@jupyter-widgets/base",
          "model_name": "LayoutModel",
          "state": {
            "_view_name": "LayoutView",
            "grid_template_rows": null,
            "right": null,
            "justify_content": null,
            "_view_module": "@jupyter-widgets/base",
            "overflow": null,
            "_model_module_version": "1.2.0",
            "_view_count": null,
            "flex_flow": null,
            "width": null,
            "min_width": null,
            "border": null,
            "align_items": null,
            "bottom": null,
            "_model_module": "@jupyter-widgets/base",
            "top": null,
            "grid_column": null,
            "overflow_y": null,
            "overflow_x": null,
            "grid_auto_flow": null,
            "grid_area": null,
            "grid_template_columns": null,
            "flex": null,
            "_model_name": "LayoutModel",
            "justify_items": null,
            "grid_row": null,
            "max_height": null,
            "align_content": null,
            "visibility": null,
            "align_self": null,
            "height": null,
            "min_height": null,
            "padding": null,
            "grid_auto_rows": null,
            "grid_gap": null,
            "max_width": null,
            "order": null,
            "_view_module_version": "1.2.0",
            "grid_template_areas": null,
            "object_position": null,
            "object_fit": null,
            "grid_auto_columns": null,
            "margin": null,
            "display": null,
            "left": null
          }
        },
        "bb72321fe63b43ca83c78fbc05be70c4": {
          "model_module": "@jupyter-widgets/controls",
          "model_name": "HBoxModel",
          "state": {
            "_view_name": "HBoxView",
            "_dom_classes": [],
            "_model_name": "HBoxModel",
            "_view_module": "@jupyter-widgets/controls",
            "_model_module_version": "1.5.0",
            "_view_count": null,
            "_view_module_version": "1.5.0",
            "box_style": "",
            "layout": "IPY_MODEL_ac08a402334d4ab099cc234cc77a7276",
            "_model_module": "@jupyter-widgets/controls",
            "children": [
              "IPY_MODEL_e1c8a647f1254f28ab06984abf620d59",
              "IPY_MODEL_b3248e3f2bb746c8a1372a97d2fe5199"
            ]
          }
        },
        "ac08a402334d4ab099cc234cc77a7276": {
          "model_module": "@jupyter-widgets/base",
          "model_name": "LayoutModel",
          "state": {
            "_view_name": "LayoutView",
            "grid_template_rows": null,
            "right": null,
            "justify_content": null,
            "_view_module": "@jupyter-widgets/base",
            "overflow": null,
            "_model_module_version": "1.2.0",
            "_view_count": null,
            "flex_flow": null,
            "width": null,
            "min_width": null,
            "border": null,
            "align_items": null,
            "bottom": null,
            "_model_module": "@jupyter-widgets/base",
            "top": null,
            "grid_column": null,
            "overflow_y": null,
            "overflow_x": null,
            "grid_auto_flow": null,
            "grid_area": null,
            "grid_template_columns": null,
            "flex": null,
            "_model_name": "LayoutModel",
            "justify_items": null,
            "grid_row": null,
            "max_height": null,
            "align_content": null,
            "visibility": null,
            "align_self": null,
            "height": null,
            "min_height": null,
            "padding": null,
            "grid_auto_rows": null,
            "grid_gap": null,
            "max_width": null,
            "order": null,
            "_view_module_version": "1.2.0",
            "grid_template_areas": null,
            "object_position": null,
            "object_fit": null,
            "grid_auto_columns": null,
            "margin": null,
            "display": null,
            "left": null
          }
        },
        "e1c8a647f1254f28ab06984abf620d59": {
          "model_module": "@jupyter-widgets/controls",
          "model_name": "IntProgressModel",
          "state": {
            "_view_name": "ProgressView",
            "style": "IPY_MODEL_8c7b46d8c103402e8dedb35aae792da8",
            "_dom_classes": [],
            "description": "",
            "_model_name": "IntProgressModel",
            "bar_style": "success",
            "max": 1,
            "_view_module": "@jupyter-widgets/controls",
            "_model_module_version": "1.5.0",
            "value": 1,
            "_view_count": null,
            "_view_module_version": "1.5.0",
            "orientation": "horizontal",
            "min": 0,
            "description_tooltip": null,
            "_model_module": "@jupyter-widgets/controls",
            "layout": "IPY_MODEL_73fd90540c554842bfb90080d1f1b729"
          }
        },
        "b3248e3f2bb746c8a1372a97d2fe5199": {
          "model_module": "@jupyter-widgets/controls",
          "model_name": "HTMLModel",
          "state": {
            "_view_name": "HTMLView",
            "style": "IPY_MODEL_8eca2ead8a0b401b8cf106f0e8bcdb9d",
            "_dom_classes": [],
            "description": "",
            "_model_name": "HTMLModel",
            "placeholder": "​",
            "_view_module": "@jupyter-widgets/controls",
            "_model_module_version": "1.5.0",
            "value": "4423680it [00:00, 32575963.09it/s]",
            "_view_count": null,
            "_view_module_version": "1.5.0",
            "description_tooltip": null,
            "_model_module": "@jupyter-widgets/controls",
            "layout": "IPY_MODEL_d3b16bcbe3f04468856272771cd87849"
          }
        },
        "8c7b46d8c103402e8dedb35aae792da8": {
          "model_module": "@jupyter-widgets/controls",
          "model_name": "ProgressStyleModel",
          "state": {
            "_view_name": "StyleView",
            "_model_name": "ProgressStyleModel",
            "description_width": "",
            "_view_module": "@jupyter-widgets/base",
            "_model_module_version": "1.5.0",
            "_view_count": null,
            "_view_module_version": "1.2.0",
            "bar_color": null,
            "_model_module": "@jupyter-widgets/controls"
          }
        },
        "73fd90540c554842bfb90080d1f1b729": {
          "model_module": "@jupyter-widgets/base",
          "model_name": "LayoutModel",
          "state": {
            "_view_name": "LayoutView",
            "grid_template_rows": null,
            "right": null,
            "justify_content": null,
            "_view_module": "@jupyter-widgets/base",
            "overflow": null,
            "_model_module_version": "1.2.0",
            "_view_count": null,
            "flex_flow": null,
            "width": null,
            "min_width": null,
            "border": null,
            "align_items": null,
            "bottom": null,
            "_model_module": "@jupyter-widgets/base",
            "top": null,
            "grid_column": null,
            "overflow_y": null,
            "overflow_x": null,
            "grid_auto_flow": null,
            "grid_area": null,
            "grid_template_columns": null,
            "flex": null,
            "_model_name": "LayoutModel",
            "justify_items": null,
            "grid_row": null,
            "max_height": null,
            "align_content": null,
            "visibility": null,
            "align_self": null,
            "height": null,
            "min_height": null,
            "padding": null,
            "grid_auto_rows": null,
            "grid_gap": null,
            "max_width": null,
            "order": null,
            "_view_module_version": "1.2.0",
            "grid_template_areas": null,
            "object_position": null,
            "object_fit": null,
            "grid_auto_columns": null,
            "margin": null,
            "display": null,
            "left": null
          }
        },
        "8eca2ead8a0b401b8cf106f0e8bcdb9d": {
          "model_module": "@jupyter-widgets/controls",
          "model_name": "DescriptionStyleModel",
          "state": {
            "_view_name": "StyleView",
            "_model_name": "DescriptionStyleModel",
            "description_width": "",
            "_view_module": "@jupyter-widgets/base",
            "_model_module_version": "1.5.0",
            "_view_count": null,
            "_view_module_version": "1.2.0",
            "_model_module": "@jupyter-widgets/controls"
          }
        },
        "d3b16bcbe3f04468856272771cd87849": {
          "model_module": "@jupyter-widgets/base",
          "model_name": "LayoutModel",
          "state": {
            "_view_name": "LayoutView",
            "grid_template_rows": null,
            "right": null,
            "justify_content": null,
            "_view_module": "@jupyter-widgets/base",
            "overflow": null,
            "_model_module_version": "1.2.0",
            "_view_count": null,
            "flex_flow": null,
            "width": null,
            "min_width": null,
            "border": null,
            "align_items": null,
            "bottom": null,
            "_model_module": "@jupyter-widgets/base",
            "top": null,
            "grid_column": null,
            "overflow_y": null,
            "overflow_x": null,
            "grid_auto_flow": null,
            "grid_area": null,
            "grid_template_columns": null,
            "flex": null,
            "_model_name": "LayoutModel",
            "justify_items": null,
            "grid_row": null,
            "max_height": null,
            "align_content": null,
            "visibility": null,
            "align_self": null,
            "height": null,
            "min_height": null,
            "padding": null,
            "grid_auto_rows": null,
            "grid_gap": null,
            "max_width": null,
            "order": null,
            "_view_module_version": "1.2.0",
            "grid_template_areas": null,
            "object_position": null,
            "object_fit": null,
            "grid_auto_columns": null,
            "margin": null,
            "display": null,
            "left": null
          }
        },
        "b3cfbd031db94387ae7db01171804b80": {
          "model_module": "@jupyter-widgets/controls",
          "model_name": "HBoxModel",
          "state": {
            "_view_name": "HBoxView",
            "_dom_classes": [],
            "_model_name": "HBoxModel",
            "_view_module": "@jupyter-widgets/controls",
            "_model_module_version": "1.5.0",
            "_view_count": null,
            "_view_module_version": "1.5.0",
            "box_style": "",
            "layout": "IPY_MODEL_176617102e1546e98b566bb616e22ad6",
            "_model_module": "@jupyter-widgets/controls",
            "children": [
              "IPY_MODEL_f55d500130634587a08ea8a8fd1378a9",
              "IPY_MODEL_e059fbefbf274343b4819c0def47a01f"
            ]
          }
        },
        "176617102e1546e98b566bb616e22ad6": {
          "model_module": "@jupyter-widgets/base",
          "model_name": "LayoutModel",
          "state": {
            "_view_name": "LayoutView",
            "grid_template_rows": null,
            "right": null,
            "justify_content": null,
            "_view_module": "@jupyter-widgets/base",
            "overflow": null,
            "_model_module_version": "1.2.0",
            "_view_count": null,
            "flex_flow": null,
            "width": null,
            "min_width": null,
            "border": null,
            "align_items": null,
            "bottom": null,
            "_model_module": "@jupyter-widgets/base",
            "top": null,
            "grid_column": null,
            "overflow_y": null,
            "overflow_x": null,
            "grid_auto_flow": null,
            "grid_area": null,
            "grid_template_columns": null,
            "flex": null,
            "_model_name": "LayoutModel",
            "justify_items": null,
            "grid_row": null,
            "max_height": null,
            "align_content": null,
            "visibility": null,
            "align_self": null,
            "height": null,
            "min_height": null,
            "padding": null,
            "grid_auto_rows": null,
            "grid_gap": null,
            "max_width": null,
            "order": null,
            "_view_module_version": "1.2.0",
            "grid_template_areas": null,
            "object_position": null,
            "object_fit": null,
            "grid_auto_columns": null,
            "margin": null,
            "display": null,
            "left": null
          }
        },
        "f55d500130634587a08ea8a8fd1378a9": {
          "model_module": "@jupyter-widgets/controls",
          "model_name": "IntProgressModel",
          "state": {
            "_view_name": "ProgressView",
            "style": "IPY_MODEL_3a78299c1e1a4fb48f29f41073588aa5",
            "_dom_classes": [],
            "description": "",
            "_model_name": "IntProgressModel",
            "bar_style": "success",
            "max": 1,
            "_view_module": "@jupyter-widgets/controls",
            "_model_module_version": "1.5.0",
            "value": 1,
            "_view_count": null,
            "_view_module_version": "1.5.0",
            "orientation": "horizontal",
            "min": 0,
            "description_tooltip": null,
            "_model_module": "@jupyter-widgets/controls",
            "layout": "IPY_MODEL_f1f274cc00fd41cea0498b04bfda51f4"
          }
        },
        "e059fbefbf274343b4819c0def47a01f": {
          "model_module": "@jupyter-widgets/controls",
          "model_name": "HTMLModel",
          "state": {
            "_view_name": "HTMLView",
            "style": "IPY_MODEL_0ea5aabca160412b93c780fa9158707f",
            "_dom_classes": [],
            "description": "",
            "_model_name": "HTMLModel",
            "placeholder": "​",
            "_view_module": "@jupyter-widgets/controls",
            "_model_module_version": "1.5.0",
            "value": "8192it [00:00, 129589.46it/s]",
            "_view_count": null,
            "_view_module_version": "1.5.0",
            "description_tooltip": null,
            "_model_module": "@jupyter-widgets/controls",
            "layout": "IPY_MODEL_2e74a2146af14e668109936881f1df35"
          }
        },
        "3a78299c1e1a4fb48f29f41073588aa5": {
          "model_module": "@jupyter-widgets/controls",
          "model_name": "ProgressStyleModel",
          "state": {
            "_view_name": "StyleView",
            "_model_name": "ProgressStyleModel",
            "description_width": "",
            "_view_module": "@jupyter-widgets/base",
            "_model_module_version": "1.5.0",
            "_view_count": null,
            "_view_module_version": "1.2.0",
            "bar_color": null,
            "_model_module": "@jupyter-widgets/controls"
          }
        },
        "f1f274cc00fd41cea0498b04bfda51f4": {
          "model_module": "@jupyter-widgets/base",
          "model_name": "LayoutModel",
          "state": {
            "_view_name": "LayoutView",
            "grid_template_rows": null,
            "right": null,
            "justify_content": null,
            "_view_module": "@jupyter-widgets/base",
            "overflow": null,
            "_model_module_version": "1.2.0",
            "_view_count": null,
            "flex_flow": null,
            "width": null,
            "min_width": null,
            "border": null,
            "align_items": null,
            "bottom": null,
            "_model_module": "@jupyter-widgets/base",
            "top": null,
            "grid_column": null,
            "overflow_y": null,
            "overflow_x": null,
            "grid_auto_flow": null,
            "grid_area": null,
            "grid_template_columns": null,
            "flex": null,
            "_model_name": "LayoutModel",
            "justify_items": null,
            "grid_row": null,
            "max_height": null,
            "align_content": null,
            "visibility": null,
            "align_self": null,
            "height": null,
            "min_height": null,
            "padding": null,
            "grid_auto_rows": null,
            "grid_gap": null,
            "max_width": null,
            "order": null,
            "_view_module_version": "1.2.0",
            "grid_template_areas": null,
            "object_position": null,
            "object_fit": null,
            "grid_auto_columns": null,
            "margin": null,
            "display": null,
            "left": null
          }
        },
        "0ea5aabca160412b93c780fa9158707f": {
          "model_module": "@jupyter-widgets/controls",
          "model_name": "DescriptionStyleModel",
          "state": {
            "_view_name": "StyleView",
            "_model_name": "DescriptionStyleModel",
            "description_width": "",
            "_view_module": "@jupyter-widgets/base",
            "_model_module_version": "1.5.0",
            "_view_count": null,
            "_view_module_version": "1.2.0",
            "_model_module": "@jupyter-widgets/controls"
          }
        },
        "2e74a2146af14e668109936881f1df35": {
          "model_module": "@jupyter-widgets/base",
          "model_name": "LayoutModel",
          "state": {
            "_view_name": "LayoutView",
            "grid_template_rows": null,
            "right": null,
            "justify_content": null,
            "_view_module": "@jupyter-widgets/base",
            "overflow": null,
            "_model_module_version": "1.2.0",
            "_view_count": null,
            "flex_flow": null,
            "width": null,
            "min_width": null,
            "border": null,
            "align_items": null,
            "bottom": null,
            "_model_module": "@jupyter-widgets/base",
            "top": null,
            "grid_column": null,
            "overflow_y": null,
            "overflow_x": null,
            "grid_auto_flow": null,
            "grid_area": null,
            "grid_template_columns": null,
            "flex": null,
            "_model_name": "LayoutModel",
            "justify_items": null,
            "grid_row": null,
            "max_height": null,
            "align_content": null,
            "visibility": null,
            "align_self": null,
            "height": null,
            "min_height": null,
            "padding": null,
            "grid_auto_rows": null,
            "grid_gap": null,
            "max_width": null,
            "order": null,
            "_view_module_version": "1.2.0",
            "grid_template_areas": null,
            "object_position": null,
            "object_fit": null,
            "grid_auto_columns": null,
            "margin": null,
            "display": null,
            "left": null
          }
        }
      }
    }
  },
  "cells": [
    {
      "cell_type": "markdown",
      "metadata": {
        "id": "view-in-github",
        "colab_type": "text"
      },
      "source": [
        "<a href=\"https://colab.research.google.com/github/davidpqc1231/testgit/blob/master/Copy_of_Problem4_Copy1.ipynb\" target=\"_parent\"><img src=\"https://colab.research.google.com/assets/colab-badge.svg\" alt=\"Open In Colab\"/></a>"
      ]
    },
    {
      "cell_type": "code",
      "metadata": {
        "colab_type": "code",
        "id": "PpDcZkwPBI1S",
        "colab": {}
      },
      "source": [
        "import torch\n",
        "import torch.nn as nn\n",
        "import numpy as np\n",
        "import os\n",
        "import pandas as pd\n",
        "import matplotlib.pyplot as plt\n",
        "from torch.utils.data import DataLoader, Dataset\n",
        "import torchvision.datasets as datasets\n",
        "from torchvision import transforms\n",
        "import torch.nn.functional as F"
      ],
      "execution_count": 0,
      "outputs": []
    },
    {
      "cell_type": "code",
      "metadata": {
        "colab_type": "code",
        "id": "l95qlQQMBI1Z",
        "colab": {}
      },
      "source": [
        "path = os.getcwd()"
      ],
      "execution_count": 0,
      "outputs": []
    },
    {
      "cell_type": "markdown",
      "metadata": {
        "colab_type": "text",
        "id": "mEpqO42tBI1b"
      },
      "source": [
        "### 4.1.1 Train CNN in MNIST"
      ]
    },
    {
      "cell_type": "code",
      "metadata": {
        "colab_type": "code",
        "id": "-bZLcoriBI1c",
        "colab": {}
      },
      "source": [
        "transform = transforms.ToTensor()"
      ],
      "execution_count": 0,
      "outputs": []
    },
    {
      "cell_type": "code",
      "metadata": {
        "colab_type": "code",
        "id": "xBNBWCK-BI1g",
        "outputId": "29a42446-5751-4621-bfae-dc34ac24b164",
        "colab": {
          "base_uri": "https://localhost:8080/",
          "height": 397,
          "referenced_widgets": [
            "4fa6e8001fe141398cd90dbd9d506778",
            "55e5193d4fa54c308cc219873290ad83",
            "6009ac2a8fed4f0689c0f6d31b9ba9b8",
            "8a827b9689234853b95dc8d1857c5f0b",
            "0bbacb05ce404846834b283e9f6b8dea",
            "b607cf7b0fae44cfa5208bd55ca66bd3",
            "d0edb2286b564fb4b7a646476436e132",
            "1033194b68aa4bdc9c0cf7c092d50a0d",
            "f041d94bb0cc49f78e70cb2e0aed779a",
            "f5a7b346a51c435c94f9e7756258b20b",
            "55061308a7a64e6788707ec807cb4e7e",
            "b4049328a24a4c81be2329717af12389",
            "75d86edfce0a4457a1bb593b0e9fe040",
            "281fadd9c2bf432ba4a2083dd552ffbb",
            "4d0e2824e45a4cd2aa420cfa2ed536b0",
            "101ce312d16c4ef78d73917839940278",
            "80492fc2e7a54995a6450d683579482c",
            "1829b7c43714460cac394c18c7c43581",
            "b2209219543143d183867c245fdfdb2f",
            "8f56fd76dceb4d0dac6e807cf1f5865e",
            "df16917e2a03444cb3739a549f48372f",
            "44cdbac4509f4ed18eacfc67eb30b3f5",
            "578859080a3043b18df088c1bef1cd18",
            "89d21778a9fe44c389e81dfc2502cea8",
            "05ab6f2f8cfa496a8a983dec18510e79",
            "e0082b6cdbf3448b95301d679cfb2fec",
            "e7281f4f4e1f40a9b26cb689a37813a6",
            "88313bb5fb624cc48de99101f20d0bb2",
            "95feb0230a77492ea041630f3f5d5590",
            "469865b6e3d645d18aa0925216134218",
            "874bbe2b23524504a6b4c5b25dcb3131",
            "f14a0dd118d44377983e4351bd8e5d53"
          ]
        }
      },
      "source": [
        "train_mnist = datasets.MNIST(root=path,train=True,download=True,transform=transform)\n",
        "test_mnist = datasets.MNIST(root=path,train=False,download=True,transform=transform)"
      ],
      "execution_count": 0,
      "outputs": [
        {
          "output_type": "stream",
          "text": [
            "Downloading http://yann.lecun.com/exdb/mnist/train-images-idx3-ubyte.gz to /content/MNIST/raw/train-images-idx3-ubyte.gz\n"
          ],
          "name": "stdout"
        },
        {
          "output_type": "display_data",
          "data": {
            "application/vnd.jupyter.widget-view+json": {
              "model_id": "4fa6e8001fe141398cd90dbd9d506778",
              "version_minor": 0,
              "version_major": 2
            },
            "text/plain": [
              "HBox(children=(IntProgress(value=1, bar_style='info', max=1), HTML(value='')))"
            ]
          },
          "metadata": {
            "tags": []
          }
        },
        {
          "output_type": "stream",
          "text": [
            "\n",
            "Extracting /content/MNIST/raw/train-images-idx3-ubyte.gz to /content/MNIST/raw\n",
            "Downloading http://yann.lecun.com/exdb/mnist/train-labels-idx1-ubyte.gz to /content/MNIST/raw/train-labels-idx1-ubyte.gz\n"
          ],
          "name": "stdout"
        },
        {
          "output_type": "display_data",
          "data": {
            "application/vnd.jupyter.widget-view+json": {
              "model_id": "f041d94bb0cc49f78e70cb2e0aed779a",
              "version_minor": 0,
              "version_major": 2
            },
            "text/plain": [
              "HBox(children=(IntProgress(value=1, bar_style='info', max=1), HTML(value='')))"
            ]
          },
          "metadata": {
            "tags": []
          }
        },
        {
          "output_type": "stream",
          "text": [
            "\n",
            "Extracting /content/MNIST/raw/train-labels-idx1-ubyte.gz to /content/MNIST/raw\n",
            "Downloading http://yann.lecun.com/exdb/mnist/t10k-images-idx3-ubyte.gz to /content/MNIST/raw/t10k-images-idx3-ubyte.gz\n"
          ],
          "name": "stdout"
        },
        {
          "output_type": "display_data",
          "data": {
            "application/vnd.jupyter.widget-view+json": {
              "model_id": "80492fc2e7a54995a6450d683579482c",
              "version_minor": 0,
              "version_major": 2
            },
            "text/plain": [
              "HBox(children=(IntProgress(value=1, bar_style='info', max=1), HTML(value='')))"
            ]
          },
          "metadata": {
            "tags": []
          }
        },
        {
          "output_type": "stream",
          "text": [
            "\n",
            "Extracting /content/MNIST/raw/t10k-images-idx3-ubyte.gz to /content/MNIST/raw\n",
            "Downloading http://yann.lecun.com/exdb/mnist/t10k-labels-idx1-ubyte.gz to /content/MNIST/raw/t10k-labels-idx1-ubyte.gz\n"
          ],
          "name": "stdout"
        },
        {
          "output_type": "display_data",
          "data": {
            "application/vnd.jupyter.widget-view+json": {
              "model_id": "05ab6f2f8cfa496a8a983dec18510e79",
              "version_minor": 0,
              "version_major": 2
            },
            "text/plain": [
              "HBox(children=(IntProgress(value=1, bar_style='info', max=1), HTML(value='')))"
            ]
          },
          "metadata": {
            "tags": []
          }
        },
        {
          "output_type": "stream",
          "text": [
            "\n",
            "Extracting /content/MNIST/raw/t10k-labels-idx1-ubyte.gz to /content/MNIST/raw\n",
            "Processing...\n",
            "Done!\n"
          ],
          "name": "stdout"
        }
      ]
    },
    {
      "cell_type": "code",
      "metadata": {
        "colab_type": "code",
        "id": "dn6aCwV7BI1j",
        "colab": {}
      },
      "source": [
        "class Model(nn.Module):\n",
        "    \n",
        "    def __init__(self):\n",
        "        \n",
        "        super().__init__()\n",
        "        \n",
        "        self.conv1 = nn.Conv2d(1,16,5,1)\n",
        "        self.conv2 = nn.Conv2d(16,32,5,1)\n",
        "\n",
        "        self.bn1 = nn.BatchNorm2d(16)\n",
        "        self.bn2 = nn.BatchNorm2d(32)\n",
        "\n",
        "        self.re1 = nn.ReLU()\n",
        "        self.re2 = nn.ReLU()\n",
        "\n",
        "        self.mp1 = nn.MaxPool2d(kernel_size=2)\n",
        "        self.mp2 = nn.MaxPool2d(kernel_size=2)\n",
        "\n",
        "        self.do = nn.Dropout(p=0.5)\n",
        "\n",
        "        self.fc1 = nn.Linear(32*4*4,120)\n",
        "        self.fc2 = nn.Linear(120,84)\n",
        "        self.fc3 = nn.Linear(84,10)\n",
        "        \n",
        "    def forward(self,x):\n",
        "        \n",
        "        x = self.conv1(x)\n",
        "        x = self.bn1(x)\n",
        "        x = self.re1(x)\n",
        "        x = self.mp1(x)\n",
        "\n",
        "        x = self.conv2(x)\n",
        "        x = self.bn2(x)\n",
        "        x = self.re2(x)\n",
        "        x = self.mp2(x)\n",
        "\n",
        "        x = x.view(x.shape[0],-1)\n",
        "        x = self.do(x)\n",
        "\n",
        "        x = self.fc1(x)\n",
        "        x = F.relu(x)\n",
        "        \n",
        "        x = self.fc2(x)\n",
        "        x = F.relu(x)\n",
        "\n",
        "        x = self.fc3(x)\n",
        "        \n",
        "        x = F.log_softmax(x,dim=1)\n",
        "        \n",
        "        return x"
      ],
      "execution_count": 0,
      "outputs": []
    },
    {
      "cell_type": "code",
      "metadata": {
        "colab_type": "code",
        "id": "CyIhmUk8BI1r",
        "colab": {}
      },
      "source": [
        "if torch.cuda.is_available():\n",
        "    device = torch.device(\"cuda:0\")\n",
        "else:\n",
        "    device=torch.device('cpu')"
      ],
      "execution_count": 0,
      "outputs": []
    },
    {
      "cell_type": "code",
      "metadata": {
        "colab_type": "code",
        "id": "KRX53-HABI1u",
        "colab": {}
      },
      "source": [
        "model_mnist = Model().to(device)"
      ],
      "execution_count": 0,
      "outputs": []
    },
    {
      "cell_type": "code",
      "metadata": {
        "colab_type": "code",
        "id": "DCl5uf8WBI1w",
        "colab": {}
      },
      "source": [
        "criterion_mnist = nn.CrossEntropyLoss()\n",
        "optimizer_mnist = torch.optim.Adam(model_mnist.parameters(),lr=0.001)\n",
        "epochs = 7"
      ],
      "execution_count": 0,
      "outputs": []
    },
    {
      "cell_type": "code",
      "metadata": {
        "colab_type": "code",
        "id": "FvnJqbYOBI1y",
        "colab": {}
      },
      "source": [
        "train_loader = DataLoader(train_mnist,batch_size=10,shuffle=True)\n",
        "test_loader = DataLoader(test_mnist,batch_size=10,shuffle=False)"
      ],
      "execution_count": 0,
      "outputs": []
    },
    {
      "cell_type": "code",
      "metadata": {
        "colab_type": "code",
        "id": "Lh0siZoXBI12",
        "outputId": "028835a7-eee8-47eb-efc0-571eb3bcbf77",
        "colab": {
          "base_uri": "https://localhost:8080/",
          "height": 1000
        }
      },
      "source": [
        "train_losses_mnist = []\n",
        "train_correct_mnist = []\n",
        "test_losses_mnist = []\n",
        "test_correct_mnist = []\n",
        "\n",
        "for i in range(epochs):\n",
        "    \n",
        "    trn_corr = 0\n",
        "    tst_corr = 0\n",
        "    test_mnist_list = [0,0,0,0,0,0,0,0,0,0]\n",
        "    test_mnist_cor_list = [0,0,0,0,0,0,0,0,0,0]\n",
        "    \n",
        "    model_mnist.train()\n",
        "    for j, (X_train,y_train) in enumerate(train_loader):\n",
        "        \n",
        "        j += 1\n",
        "        y_pred = model_mnist.forward(X_train.to(device))\n",
        "        loss = criterion_mnist(y_pred,y_train.to(device))\n",
        "        predicted = torch.max(y_pred,dim=1)[1]\n",
        "        batch_corr = (predicted.detach().cpu()==y_train).sum()\n",
        "        trn_corr += batch_corr\n",
        "        \n",
        "        optimizer_mnist.zero_grad()\n",
        "        loss.backward()\n",
        "        optimizer_mnist.step()\n",
        "        \n",
        "        #if j%600 == 0:\n",
        "        #    acc = trn_corr.item() * 100 / (j*10)\n",
        "        #    print(f' Epochs{i} batch{j} loss: {loss.item()} accuracy: {acc}')\n",
        "    \n",
        "    model_mnist.eval()\n",
        "    with torch.no_grad():\n",
        "        for k, (X_test,y_test) in enumerate(test_loader):\n",
        "            \n",
        "            k += 1\n",
        "            y_val = model_mnist.forward(X_test.to(device))\n",
        "            tst_loss = criterion_mnist(y_val,y_test.to(device))\n",
        "            predicted = torch.max(y_val,dim=1)[1]\n",
        "            tst_batch_corr = (predicted.detach().cpu()==y_test).sum()\n",
        "            tst_corr += tst_batch_corr\n",
        "            \n",
        "            for ii in range(10):\n",
        "                index = y_test[ii].item()\n",
        "                test_mnist_list[index] += 1\n",
        "                if predicted[ii].item() == index:\n",
        "                    test_mnist_cor_list[index] += 1\n",
        "            \n",
        "            \n",
        "            if k%100 == 0:\n",
        "                acc = tst_corr.item() * 100 / (k*10)\n",
        "                print(f' Epochs{i} batch{k} loss: {tst_loss.item()} accuracy: {acc}')\n",
        "        \n",
        "    \n",
        "    \n",
        "    train_losses_mnist.append(loss)\n",
        "    train_correct_mnist.append(trn_corr)\n",
        "    test_losses_mnist.append(tst_loss)\n",
        "    test_correct_mnist.append(tst_corr)"
      ],
      "execution_count": 0,
      "outputs": [
        {
          "output_type": "stream",
          "text": [
            " Epochs0 batch100 loss: 0.003169306321069598 accuracy: 98.5\n",
            " Epochs0 batch200 loss: 0.00631761783733964 accuracy: 98.3\n",
            " Epochs0 batch300 loss: 0.34386587142944336 accuracy: 97.9\n",
            " Epochs0 batch400 loss: 0.0008440304663963616 accuracy: 97.825\n",
            " Epochs0 batch500 loss: 0.01025213859975338 accuracy: 97.84\n",
            " Epochs0 batch600 loss: 0.09363319724798203 accuracy: 98.05\n",
            " Epochs0 batch700 loss: 0.0026960517279803753 accuracy: 98.08571428571429\n",
            " Epochs0 batch800 loss: 0.005069609731435776 accuracy: 98.2875\n",
            " Epochs0 batch900 loss: 0.0073251002468168736 accuracy: 98.42222222222222\n",
            " Epochs0 batch1000 loss: 0.0004833870043512434 accuracy: 98.44\n",
            " Epochs1 batch100 loss: 0.0007402328774333 accuracy: 98.3\n",
            " Epochs1 batch200 loss: 0.0022521442733705044 accuracy: 98.25\n",
            " Epochs1 batch300 loss: 0.19858737289905548 accuracy: 98.16666666666667\n",
            " Epochs1 batch400 loss: 0.002214493928477168 accuracy: 98.025\n",
            " Epochs1 batch500 loss: 0.00214903661981225 accuracy: 98.18\n",
            " Epochs1 batch600 loss: 0.47672995924949646 accuracy: 98.31666666666666\n",
            " Epochs1 batch700 loss: 0.0020075435750186443 accuracy: 98.4\n",
            " Epochs1 batch800 loss: 0.00021034076053183526 accuracy: 98.575\n",
            " Epochs1 batch900 loss: 3.014634785358794e-05 accuracy: 98.7\n",
            " Epochs1 batch1000 loss: 0.00020124143338762224 accuracy: 98.69\n",
            " Epochs2 batch100 loss: 0.0002762835647445172 accuracy: 99.3\n",
            " Epochs2 batch200 loss: 0.00018229047418572009 accuracy: 98.8\n",
            " Epochs2 batch300 loss: 0.07202447950839996 accuracy: 98.8\n",
            " Epochs2 batch400 loss: 0.007211922202259302 accuracy: 98.85\n",
            " Epochs2 batch500 loss: 0.001753329997882247 accuracy: 98.94\n",
            " Epochs2 batch600 loss: 0.007220289204269648 accuracy: 99.05\n",
            " Epochs2 batch700 loss: 1.1801561413449235e-05 accuracy: 99.04285714285714\n",
            " Epochs2 batch800 loss: 0.0006876514526084065 accuracy: 99.15\n",
            " Epochs2 batch900 loss: 2.236213731521275e-05 accuracy: 99.2\n",
            " Epochs2 batch1000 loss: 0.0018732314929366112 accuracy: 99.19\n",
            " Epochs3 batch100 loss: 0.007104723248630762 accuracy: 99.0\n",
            " Epochs3 batch200 loss: 0.006422278471291065 accuracy: 98.5\n",
            " Epochs3 batch300 loss: 0.18020644783973694 accuracy: 98.2\n",
            " Epochs3 batch400 loss: 0.00020241361926309764 accuracy: 98.3\n",
            " Epochs3 batch500 loss: 0.0016452750423923135 accuracy: 98.18\n",
            " Epochs3 batch600 loss: 0.003107137279585004 accuracy: 98.41666666666667\n",
            " Epochs3 batch700 loss: 0.004246541298925877 accuracy: 98.47142857142858\n",
            " Epochs3 batch800 loss: 0.00984177552163601 accuracy: 98.65\n",
            " Epochs3 batch900 loss: 0.002539958106353879 accuracy: 98.73333333333333\n",
            " Epochs3 batch1000 loss: 0.0017838996136561036 accuracy: 98.76\n",
            " Epochs4 batch100 loss: 0.015570794232189655 accuracy: 99.0\n",
            " Epochs4 batch200 loss: 0.0006479978328570724 accuracy: 98.75\n",
            " Epochs4 batch300 loss: 0.04935026541352272 accuracy: 98.63333333333334\n",
            " Epochs4 batch400 loss: 0.00043816445395350456 accuracy: 98.675\n",
            " Epochs4 batch500 loss: 0.0012630923883989453 accuracy: 98.64\n",
            " Epochs4 batch600 loss: 0.009424066171050072 accuracy: 98.81666666666666\n",
            " Epochs4 batch700 loss: 0.0004898039624094963 accuracy: 98.87142857142857\n",
            " Epochs4 batch800 loss: 0.0007078951457515359 accuracy: 98.975\n",
            " Epochs4 batch900 loss: 1.3314973330125213e-05 accuracy: 99.0111111111111\n",
            " Epochs4 batch1000 loss: 0.00010100903455168009 accuracy: 99.01\n",
            " Epochs5 batch100 loss: 0.0003570974222384393 accuracy: 99.1\n",
            " Epochs5 batch200 loss: 9.855603275354952e-05 accuracy: 98.75\n",
            " Epochs5 batch300 loss: 0.05269195884466171 accuracy: 98.6\n",
            " Epochs5 batch400 loss: 0.007063136901706457 accuracy: 98.775\n",
            " Epochs5 batch500 loss: 0.006612969096750021 accuracy: 98.74\n",
            " Epochs5 batch600 loss: 0.03378435969352722 accuracy: 98.93333333333334\n",
            " Epochs5 batch700 loss: 1.246904139406979e-05 accuracy: 99.0\n",
            " Epochs5 batch800 loss: 8.87331334524788e-05 accuracy: 99.1125\n",
            " Epochs5 batch900 loss: 4.982860446034465e-06 accuracy: 99.17777777777778\n",
            " Epochs5 batch1000 loss: 0.00014092287165112793 accuracy: 99.21\n",
            " Epochs6 batch100 loss: 0.0007006004452705383 accuracy: 99.0\n",
            " Epochs6 batch200 loss: 0.00024535355623811483 accuracy: 98.75\n",
            " Epochs6 batch300 loss: 0.26183345913887024 accuracy: 98.53333333333333\n",
            " Epochs6 batch400 loss: 3.8347196095855907e-05 accuracy: 98.7\n",
            " Epochs6 batch500 loss: 0.026571640744805336 accuracy: 98.84\n",
            " Epochs6 batch600 loss: 0.04607323929667473 accuracy: 99.0\n",
            " Epochs6 batch700 loss: 0.0001374689891235903 accuracy: 99.05714285714286\n",
            " Epochs6 batch800 loss: 0.00034172736923210323 accuracy: 99.175\n",
            " Epochs6 batch900 loss: 4.506563345785253e-05 accuracy: 99.23333333333333\n",
            " Epochs6 batch1000 loss: 0.0004618937964551151 accuracy: 99.24\n"
          ],
          "name": "stdout"
        }
      ]
    },
    {
      "cell_type": "markdown",
      "metadata": {
        "id": "_NDAQhR9GxnZ",
        "colab_type": "text"
      },
      "source": [
        "### 4.1.2 Train CNN in Fashion MNIST"
      ]
    },
    {
      "cell_type": "code",
      "metadata": {
        "colab_type": "code",
        "id": "daAIH3olInpC",
        "outputId": "5daeaaf8-36be-4c26-d73c-ee1a87081ff4",
        "colab": {
          "base_uri": "https://localhost:8080/",
          "height": 397,
          "referenced_widgets": [
            "c3b3f60328a442c2bf75801bcdc0e61f",
            "81869386b1a44e20bd4cd030b1f30f1e",
            "7500fb9fa707486aa84053f845fd4691",
            "5ca446d812d84813a5a97a811d72aeb5",
            "566b56c1ef87429c8c402d2f31fbc6b6",
            "5c1ce39f18544a64a9760ed4c01a948c",
            "26a036190beb43b48a14ac86ff6e7f67",
            "cb605e1241f945d89827001123d030da",
            "273a5f3fdb4e4217b8cb0db73ee4e359",
            "5170c9a23b5d4f85b97638c81a4738fd",
            "a95a88cf4598475495755afef36268e4",
            "5ac7d0dae17c4838a72579ef403ddd94",
            "ad7d49ba555f4d258f9216246eeeacb6",
            "260daeb5edd54f1caa2c4f4ac1fa45ac",
            "01dd722ca5c2441dac493a57f2d66cda",
            "aac8157d874347638657238bd8c06799",
            "bb72321fe63b43ca83c78fbc05be70c4",
            "ac08a402334d4ab099cc234cc77a7276",
            "e1c8a647f1254f28ab06984abf620d59",
            "b3248e3f2bb746c8a1372a97d2fe5199",
            "8c7b46d8c103402e8dedb35aae792da8",
            "73fd90540c554842bfb90080d1f1b729",
            "8eca2ead8a0b401b8cf106f0e8bcdb9d",
            "d3b16bcbe3f04468856272771cd87849",
            "b3cfbd031db94387ae7db01171804b80",
            "176617102e1546e98b566bb616e22ad6",
            "f55d500130634587a08ea8a8fd1378a9",
            "e059fbefbf274343b4819c0def47a01f",
            "3a78299c1e1a4fb48f29f41073588aa5",
            "f1f274cc00fd41cea0498b04bfda51f4",
            "0ea5aabca160412b93c780fa9158707f",
            "2e74a2146af14e668109936881f1df35"
          ]
        }
      },
      "source": [
        "train_fashion = datasets.FashionMNIST(root=path,train=True,download=True,transform=transform)\n",
        "test_fashion = datasets.FashionMNIST(root=path,train=False,download=True,transform=transform)"
      ],
      "execution_count": 0,
      "outputs": [
        {
          "output_type": "stream",
          "text": [
            "Downloading http://fashion-mnist.s3-website.eu-central-1.amazonaws.com/train-images-idx3-ubyte.gz to /content/FashionMNIST/raw/train-images-idx3-ubyte.gz\n"
          ],
          "name": "stdout"
        },
        {
          "output_type": "display_data",
          "data": {
            "application/vnd.jupyter.widget-view+json": {
              "model_id": "c3b3f60328a442c2bf75801bcdc0e61f",
              "version_minor": 0,
              "version_major": 2
            },
            "text/plain": [
              "HBox(children=(IntProgress(value=1, bar_style='info', max=1), HTML(value='')))"
            ]
          },
          "metadata": {
            "tags": []
          }
        },
        {
          "output_type": "stream",
          "text": [
            "\n",
            "Extracting /content/FashionMNIST/raw/train-images-idx3-ubyte.gz to /content/FashionMNIST/raw\n",
            "Downloading http://fashion-mnist.s3-website.eu-central-1.amazonaws.com/train-labels-idx1-ubyte.gz to /content/FashionMNIST/raw/train-labels-idx1-ubyte.gz\n"
          ],
          "name": "stdout"
        },
        {
          "output_type": "display_data",
          "data": {
            "application/vnd.jupyter.widget-view+json": {
              "model_id": "273a5f3fdb4e4217b8cb0db73ee4e359",
              "version_minor": 0,
              "version_major": 2
            },
            "text/plain": [
              "HBox(children=(IntProgress(value=1, bar_style='info', max=1), HTML(value='')))"
            ]
          },
          "metadata": {
            "tags": []
          }
        },
        {
          "output_type": "stream",
          "text": [
            "\n",
            "Extracting /content/FashionMNIST/raw/train-labels-idx1-ubyte.gz to /content/FashionMNIST/raw\n",
            "Downloading http://fashion-mnist.s3-website.eu-central-1.amazonaws.com/t10k-images-idx3-ubyte.gz to /content/FashionMNIST/raw/t10k-images-idx3-ubyte.gz\n"
          ],
          "name": "stdout"
        },
        {
          "output_type": "display_data",
          "data": {
            "application/vnd.jupyter.widget-view+json": {
              "model_id": "bb72321fe63b43ca83c78fbc05be70c4",
              "version_minor": 0,
              "version_major": 2
            },
            "text/plain": [
              "HBox(children=(IntProgress(value=1, bar_style='info', max=1), HTML(value='')))"
            ]
          },
          "metadata": {
            "tags": []
          }
        },
        {
          "output_type": "stream",
          "text": [
            "\n",
            "Extracting /content/FashionMNIST/raw/t10k-images-idx3-ubyte.gz to /content/FashionMNIST/raw\n",
            "Downloading http://fashion-mnist.s3-website.eu-central-1.amazonaws.com/t10k-labels-idx1-ubyte.gz to /content/FashionMNIST/raw/t10k-labels-idx1-ubyte.gz\n"
          ],
          "name": "stdout"
        },
        {
          "output_type": "display_data",
          "data": {
            "application/vnd.jupyter.widget-view+json": {
              "model_id": "b3cfbd031db94387ae7db01171804b80",
              "version_minor": 0,
              "version_major": 2
            },
            "text/plain": [
              "HBox(children=(IntProgress(value=1, bar_style='info', max=1), HTML(value='')))"
            ]
          },
          "metadata": {
            "tags": []
          }
        },
        {
          "output_type": "stream",
          "text": [
            "\n",
            "Extracting /content/FashionMNIST/raw/t10k-labels-idx1-ubyte.gz to /content/FashionMNIST/raw\n",
            "Processing...\n",
            "Done!\n"
          ],
          "name": "stdout"
        }
      ]
    },
    {
      "cell_type": "code",
      "metadata": {
        "colab_type": "code",
        "id": "a09NA_egIt8M",
        "colab": {}
      },
      "source": [
        "model_fashion = Model().to(device)"
      ],
      "execution_count": 0,
      "outputs": []
    },
    {
      "cell_type": "code",
      "metadata": {
        "colab_type": "code",
        "id": "BE6Dn9wGIxI0",
        "colab": {}
      },
      "source": [
        "criterion_fashion = nn.CrossEntropyLoss()\n",
        "optimizer_fashion = torch.optim.Adam(model_fashion.parameters(),lr=0.001)\n",
        "epochs = 10"
      ],
      "execution_count": 0,
      "outputs": []
    },
    {
      "cell_type": "code",
      "metadata": {
        "colab_type": "code",
        "id": "JdmMmUQKIz42",
        "colab": {}
      },
      "source": [
        "train_loader = DataLoader(train_fashion,batch_size=10,shuffle=True)\n",
        "test_loader = DataLoader(test_fashion,batch_size=10,shuffle=False)"
      ],
      "execution_count": 0,
      "outputs": []
    },
    {
      "cell_type": "code",
      "metadata": {
        "colab_type": "code",
        "id": "w4LlAuakI3V2",
        "outputId": "d844df86-7c5b-473c-c4e4-d333fb154cd9",
        "colab": {
          "base_uri": "https://localhost:8080/",
          "height": 1000
        }
      },
      "source": [
        "train_losses_fashion = []\n",
        "train_correct_fashion = []\n",
        "test_losses_fashion = []\n",
        "test_correct_fashion = []\n",
        "\n",
        "for i in range(epochs):\n",
        "    \n",
        "    trn_corr = 0\n",
        "    tst_corr = 0\n",
        "    test_fashion_list = [0,0,0,0,0,0,0,0,0,0]\n",
        "    test_fashion_cor_list = [0,0,0,0,0,0,0,0,0,0]\n",
        "    \n",
        "    model_fashion.train()\n",
        "    for j, (X_train,y_train) in enumerate(train_loader):\n",
        "        \n",
        "        j += 1\n",
        "        y_pred = model_fashion.forward(X_train.to(device))\n",
        "        loss = criterion_fashion(y_pred,y_train.to(device))\n",
        "        predicted = torch.max(y_pred,dim=1)[1]\n",
        "        batch_corr = (predicted.detach().cpu()==y_train).sum()\n",
        "        trn_corr += batch_corr\n",
        "        \n",
        "        optimizer_fashion.zero_grad()\n",
        "        loss.backward()\n",
        "        optimizer_fashion.step()\n",
        "        \n",
        "        #if j%600 == 0:\n",
        "        #    acc = trn_corr.item() * 100 / (j*10)\n",
        "        #    print(f' Epochs{i} batch{j} loss: {loss.item()} accuracy: {acc}')\n",
        "    \n",
        "    model_fashion.eval()\n",
        "    with torch.no_grad():\n",
        "        for k, (X_test,y_test) in enumerate(test_loader):\n",
        "            \n",
        "            k += 1\n",
        "            y_val = model_fashion.forward(X_test.to(device))\n",
        "            tst_loss = criterion_fashion(y_val,y_test.to(device))\n",
        "            predicted = torch.max(y_val,dim=1)[1]\n",
        "            tst_batch_corr = (predicted.detach().cpu()==y_test).sum()\n",
        "            tst_corr += tst_batch_corr\n",
        "            \n",
        "            for ii in range(10):\n",
        "                index = y_test[ii].item()\n",
        "                test_fashion_list[index] += 1\n",
        "                if predicted[ii].item() == index:\n",
        "                    test_fashion_cor_list[index] += 1\n",
        "            \n",
        "            if k%100 == 0:\n",
        "                acc = tst_corr.item() * 100 / (k*10)\n",
        "                print(f' Epochs{i} batch{k} loss: {tst_loss.item()} accuracy: {acc}')\n",
        "        \n",
        "    \n",
        "    \n",
        "    train_losses_fashion.append(loss)\n",
        "    train_correct_fashion.append(trn_corr)\n",
        "    test_losses_fashion.append(tst_loss)\n",
        "    test_correct_fashion.append(tst_corr)"
      ],
      "execution_count": 0,
      "outputs": [
        {
          "output_type": "stream",
          "text": [
            " Epochs0 batch100 loss: 0.31506669521331787 accuracy: 87.9\n",
            " Epochs0 batch200 loss: 0.050148893147706985 accuracy: 86.9\n",
            " Epochs0 batch300 loss: 0.6626607179641724 accuracy: 85.93333333333334\n",
            " Epochs0 batch400 loss: 0.105010986328125 accuracy: 85.775\n",
            " Epochs0 batch500 loss: 0.304889053106308 accuracy: 86.04\n",
            " Epochs0 batch600 loss: 0.12030057609081268 accuracy: 85.73333333333333\n",
            " Epochs0 batch700 loss: 0.6767677068710327 accuracy: 85.74285714285715\n",
            " Epochs0 batch800 loss: 0.3043646812438965 accuracy: 86.05\n",
            " Epochs0 batch900 loss: 0.22702181339263916 accuracy: 85.87777777777778\n",
            " Epochs0 batch1000 loss: 0.1165977492928505 accuracy: 85.91\n",
            " Epochs1 batch100 loss: 0.27675554156303406 accuracy: 89.4\n",
            " Epochs1 batch200 loss: 0.03443719446659088 accuracy: 89.3\n",
            " Epochs1 batch300 loss: 0.46519097685813904 accuracy: 88.76666666666667\n",
            " Epochs1 batch400 loss: 0.33626261353492737 accuracy: 88.3\n",
            " Epochs1 batch500 loss: 0.2983996272087097 accuracy: 88.32\n",
            " Epochs1 batch600 loss: 0.07443897426128387 accuracy: 88.0\n",
            " Epochs1 batch700 loss: 0.6586493849754333 accuracy: 87.92857142857143\n",
            " Epochs1 batch800 loss: 0.3484240174293518 accuracy: 88.0125\n",
            " Epochs1 batch900 loss: 0.2517269253730774 accuracy: 87.9888888888889\n",
            " Epochs1 batch1000 loss: 0.05695691704750061 accuracy: 88.05\n",
            " Epochs2 batch100 loss: 0.054182268679142 accuracy: 89.0\n",
            " Epochs2 batch200 loss: 0.13465705513954163 accuracy: 89.2\n",
            " Epochs2 batch300 loss: 0.43943125009536743 accuracy: 88.7\n",
            " Epochs2 batch400 loss: 0.09133096784353256 accuracy: 88.45\n",
            " Epochs2 batch500 loss: 0.15487708151340485 accuracy: 88.66\n",
            " Epochs2 batch600 loss: 0.07758662104606628 accuracy: 88.33333333333333\n",
            " Epochs2 batch700 loss: 0.45795607566833496 accuracy: 88.28571428571429\n",
            " Epochs2 batch800 loss: 0.3544967770576477 accuracy: 88.6125\n",
            " Epochs2 batch900 loss: 0.2318904846906662 accuracy: 88.58888888888889\n",
            " Epochs2 batch1000 loss: 0.05794116109609604 accuracy: 88.55\n",
            " Epochs3 batch100 loss: 0.59946209192276 accuracy: 88.2\n",
            " Epochs3 batch200 loss: 0.02688995935022831 accuracy: 88.9\n",
            " Epochs3 batch300 loss: 0.31599074602127075 accuracy: 87.76666666666667\n",
            " Epochs3 batch400 loss: 0.2238154411315918 accuracy: 87.575\n",
            " Epochs3 batch500 loss: 0.33818158507347107 accuracy: 87.64\n",
            " Epochs3 batch600 loss: 0.13306009769439697 accuracy: 87.46666666666667\n",
            " Epochs3 batch700 loss: 0.7443920969963074 accuracy: 87.52857142857142\n",
            " Epochs3 batch800 loss: 0.2618482708930969 accuracy: 87.8\n",
            " Epochs3 batch900 loss: 0.3380100131034851 accuracy: 87.95555555555555\n",
            " Epochs3 batch1000 loss: 0.10869534313678741 accuracy: 88.06\n",
            " Epochs4 batch100 loss: 0.16255024075508118 accuracy: 90.7\n",
            " Epochs4 batch200 loss: 0.018724095076322556 accuracy: 90.8\n",
            " Epochs4 batch300 loss: 0.2997075021266937 accuracy: 90.06666666666666\n",
            " Epochs4 batch400 loss: 0.24232769012451172 accuracy: 90.025\n",
            " Epochs4 batch500 loss: 0.12976643443107605 accuracy: 90.08\n",
            " Epochs4 batch600 loss: 0.12089069187641144 accuracy: 89.88333333333334\n",
            " Epochs4 batch700 loss: 0.47150975465774536 accuracy: 89.9\n",
            " Epochs4 batch800 loss: 0.2379540503025055 accuracy: 90.1125\n",
            " Epochs4 batch900 loss: 0.13664817810058594 accuracy: 90.08888888888889\n",
            " Epochs4 batch1000 loss: 0.11932041496038437 accuracy: 90.07\n",
            " Epochs5 batch100 loss: 0.20440582931041718 accuracy: 89.9\n",
            " Epochs5 batch200 loss: 0.021207455545663834 accuracy: 89.85\n",
            " Epochs5 batch300 loss: 0.33383965492248535 accuracy: 89.0\n",
            " Epochs5 batch400 loss: 0.40609750151634216 accuracy: 88.925\n",
            " Epochs5 batch500 loss: 0.16952261328697205 accuracy: 89.0\n",
            " Epochs5 batch600 loss: 0.07581175863742828 accuracy: 88.9\n",
            " Epochs5 batch700 loss: 0.32604512572288513 accuracy: 89.08571428571429\n",
            " Epochs5 batch800 loss: 0.27009788155555725 accuracy: 89.3125\n",
            " Epochs5 batch900 loss: 0.1624297797679901 accuracy: 89.25555555555556\n",
            " Epochs5 batch1000 loss: 0.1766398698091507 accuracy: 89.25\n",
            " Epochs6 batch100 loss: 0.131119966506958 accuracy: 90.4\n",
            " Epochs6 batch200 loss: 0.027833184227347374 accuracy: 90.35\n",
            " Epochs6 batch300 loss: 0.24553704261779785 accuracy: 89.86666666666666\n",
            " Epochs6 batch400 loss: 0.15032078325748444 accuracy: 89.725\n",
            " Epochs6 batch500 loss: 0.22103436291217804 accuracy: 89.96\n",
            " Epochs6 batch600 loss: 0.10645176470279694 accuracy: 89.93333333333334\n",
            " Epochs6 batch700 loss: 0.6660962104797363 accuracy: 90.0\n",
            " Epochs6 batch800 loss: 0.2298177182674408 accuracy: 90.2625\n",
            " Epochs6 batch900 loss: 0.22112560272216797 accuracy: 90.3\n",
            " Epochs6 batch1000 loss: 0.17582181096076965 accuracy: 90.34\n",
            " Epochs7 batch100 loss: 0.1523156464099884 accuracy: 90.2\n",
            " Epochs7 batch200 loss: 0.05033870413899422 accuracy: 90.0\n",
            " Epochs7 batch300 loss: 0.3259531557559967 accuracy: 89.5\n",
            " Epochs7 batch400 loss: 0.19405381381511688 accuracy: 89.35\n",
            " Epochs7 batch500 loss: 0.18517184257507324 accuracy: 89.58\n",
            " Epochs7 batch600 loss: 0.14887353777885437 accuracy: 89.5\n",
            " Epochs7 batch700 loss: 0.5863779783248901 accuracy: 89.52857142857142\n",
            " Epochs7 batch800 loss: 0.36239883303642273 accuracy: 89.6\n",
            " Epochs7 batch900 loss: 0.24944742023944855 accuracy: 89.62222222222222\n",
            " Epochs7 batch1000 loss: 0.21160992980003357 accuracy: 89.66\n",
            " Epochs8 batch100 loss: 0.2112666666507721 accuracy: 90.1\n",
            " Epochs8 batch200 loss: 0.04293140396475792 accuracy: 90.35\n",
            " Epochs8 batch300 loss: 0.22882547974586487 accuracy: 90.06666666666666\n",
            " Epochs8 batch400 loss: 0.15325714647769928 accuracy: 89.75\n",
            " Epochs8 batch500 loss: 0.13008883595466614 accuracy: 89.98\n",
            " Epochs8 batch600 loss: 0.10648419708013535 accuracy: 89.93333333333334\n",
            " Epochs8 batch700 loss: 0.48223382234573364 accuracy: 90.01428571428572\n",
            " Epochs8 batch800 loss: 0.31318482756614685 accuracy: 90.175\n",
            " Epochs8 batch900 loss: 0.2792867124080658 accuracy: 90.25555555555556\n",
            " Epochs8 batch1000 loss: 0.3085046410560608 accuracy: 90.17\n",
            " Epochs9 batch100 loss: 0.08326832205057144 accuracy: 91.9\n",
            " Epochs9 batch200 loss: 0.04264569282531738 accuracy: 91.45\n",
            " Epochs9 batch300 loss: 0.3203165829181671 accuracy: 90.4\n",
            " Epochs9 batch400 loss: 0.07846911996603012 accuracy: 90.075\n",
            " Epochs9 batch500 loss: 0.07077552378177643 accuracy: 90.28\n",
            " Epochs9 batch600 loss: 0.08133206516504288 accuracy: 90.25\n",
            " Epochs9 batch700 loss: 0.5594731569290161 accuracy: 90.17142857142858\n",
            " Epochs9 batch800 loss: 0.20847204327583313 accuracy: 90.3875\n",
            " Epochs9 batch900 loss: 0.281979501247406 accuracy: 90.38888888888889\n",
            " Epochs9 batch1000 loss: 0.1288076788187027 accuracy: 90.5\n"
          ],
          "name": "stdout"
        }
      ]
    },
    {
      "cell_type": "code",
      "metadata": {
        "colab_type": "code",
        "id": "1IBrUmZLorpi",
        "colab": {}
      },
      "source": [
        "### 4.2.1 Performance"
      ],
      "execution_count": 0,
      "outputs": []
    },
    {
      "cell_type": "code",
      "metadata": {
        "id": "GmHgTJllGxnu",
        "colab_type": "code",
        "colab": {}
      },
      "source": [
        "test_co_mnist = [i/100 for i in test_correct_mnist]"
      ],
      "execution_count": 0,
      "outputs": []
    },
    {
      "cell_type": "code",
      "metadata": {
        "id": "oC2QDdurGxnw",
        "colab_type": "code",
        "outputId": "8797199c-2b79-4cc6-eb3d-3b0bb4098096",
        "colab": {
          "base_uri": "https://localhost:8080/",
          "height": 283
        }
      },
      "source": [
        "plt.plot(test_co_mnist)"
      ],
      "execution_count": 0,
      "outputs": [
        {
          "output_type": "execute_result",
          "data": {
            "text/plain": [
              "[<matplotlib.lines.Line2D at 0x7fa7f473da90>]"
            ]
          },
          "metadata": {
            "tags": []
          },
          "execution_count": 18
        },
        {
          "output_type": "display_data",
          "data": {
            "image/png": "[encoded data removed]",
            "text/plain": [
              "<Figure size 432x288 with 1 Axes>"
            ]
          },
          "metadata": {
            "tags": []
          }
        }
      ]
    },
    {
      "cell_type": "code",
      "metadata": {
        "id": "PlTgr5wXGxnz",
        "colab_type": "code",
        "outputId": "47dfb7cc-a693-4080-9db9-5dc3053ef505",
        "colab": {
          "base_uri": "https://localhost:8080/",
          "height": 35
        }
      },
      "source": [
        "test_mnist_list"
      ],
      "execution_count": 0,
      "outputs": [
        {
          "output_type": "execute_result",
          "data": {
            "text/plain": [
              "[980, 1135, 1032, 1010, 982, 892, 958, 1028, 974, 1009]"
            ]
          },
          "metadata": {
            "tags": []
          },
          "execution_count": 19
        }
      ]
    },
    {
      "cell_type": "code",
      "metadata": {
        "id": "ogIF72CqGxn2",
        "colab_type": "code",
        "outputId": "4c27ee3a-2133-4c8a-858c-c77433799386",
        "colab": {
          "base_uri": "https://localhost:8080/",
          "height": 35
        }
      },
      "source": [
        "test_mnist_cor_list"
      ],
      "execution_count": 0,
      "outputs": [
        {
          "output_type": "execute_result",
          "data": {
            "text/plain": [
              "[975, 1131, 1030, 1007, 978, 879, 943, 1016, 969, 996]"
            ]
          },
          "metadata": {
            "tags": []
          },
          "execution_count": 20
        }
      ]
    },
    {
      "cell_type": "code",
      "metadata": {
        "id": "a3SfW0s1Gxn6",
        "colab_type": "code",
        "outputId": "60f9cfac-749b-44b8-f183-5bb3426ce54f",
        "colab": {
          "base_uri": "https://localhost:8080/",
          "height": 53
        }
      },
      "source": [
        "mnist_per_class = np.array(test_mnist_cor_list) / np.array(test_mnist_list)\n",
        "mnist_per_class"
      ],
      "execution_count": 0,
      "outputs": [
        {
          "output_type": "execute_result",
          "data": {
            "text/plain": [
              "array([0.99489796, 0.99647577, 0.99806202, 0.9970297 , 0.99592668,\n",
              "       0.98542601, 0.98434238, 0.98832685, 0.99486653, 0.98711596])"
            ]
          },
          "metadata": {
            "tags": []
          },
          "execution_count": 21
        }
      ]
    },
    {
      "cell_type": "code",
      "metadata": {
        "id": "CUbk7G_8Gxn8",
        "colab_type": "code",
        "colab": {}
      },
      "source": [
        "test_co_fashion = [i/100 for i in test_correct_fashion]"
      ],
      "execution_count": 0,
      "outputs": []
    },
    {
      "cell_type": "code",
      "metadata": {
        "id": "3BWElZkXGxn_",
        "colab_type": "code",
        "outputId": "445a57d8-2b37-4571-b21c-467d1ed58251",
        "colab": {
          "base_uri": "https://localhost:8080/",
          "height": 283
        }
      },
      "source": [
        "plt.plot(test_co_fashion)"
      ],
      "execution_count": 0,
      "outputs": [
        {
          "output_type": "execute_result",
          "data": {
            "text/plain": [
              "[<matplotlib.lines.Line2D at 0x7fa7f58a1a90>]"
            ]
          },
          "metadata": {
            "tags": []
          },
          "execution_count": 23
        },
        {
          "output_type": "display_data",
          "data": {
            "image/png": "[encoded data removed]",
            "text/plain": [
              "<Figure size 432x288 with 1 Axes>"
            ]
          },
          "metadata": {
            "tags": []
          }
        }
      ]
    },
    {
      "cell_type": "code",
      "metadata": {
        "id": "QHVP8M1_GxoB",
        "colab_type": "code",
        "outputId": "57b57b48-f604-4676-dcbd-5fd9bdfb61c3",
        "colab": {
          "base_uri": "https://localhost:8080/",
          "height": 35
        }
      },
      "source": [
        "test_fashion_list"
      ],
      "execution_count": 0,
      "outputs": [
        {
          "output_type": "execute_result",
          "data": {
            "text/plain": [
              "[1000, 1000, 1000, 1000, 1000, 1000, 1000, 1000, 1000, 1000]"
            ]
          },
          "metadata": {
            "tags": []
          },
          "execution_count": 24
        }
      ]
    },
    {
      "cell_type": "code",
      "metadata": {
        "id": "Hooew96eGxoG",
        "colab_type": "code",
        "outputId": "8e6dcc42-e4e9-4ded-ec47-da02966ed105",
        "colab": {
          "base_uri": "https://localhost:8080/",
          "height": 35
        }
      },
      "source": [
        "test_fashion_cor_list"
      ],
      "execution_count": 0,
      "outputs": [
        {
          "output_type": "execute_result",
          "data": {
            "text/plain": [
              "[895, 978, 866, 908, 866, 970, 659, 963, 979, 966]"
            ]
          },
          "metadata": {
            "tags": []
          },
          "execution_count": 25
        }
      ]
    },
    {
      "cell_type": "code",
      "metadata": {
        "id": "m6jfwfQHGxoJ",
        "colab_type": "code",
        "outputId": "710a3354-67b4-44ec-e8d4-4813ee10809f",
        "colab": {
          "base_uri": "https://localhost:8080/",
          "height": 53
        }
      },
      "source": [
        "fashion_per_class = np.array(test_fashion_cor_list) / np.array(test_fashion_list)\n",
        "fashion_per_class"
      ],
      "execution_count": 0,
      "outputs": [
        {
          "output_type": "execute_result",
          "data": {
            "text/plain": [
              "array([0.895, 0.978, 0.866, 0.908, 0.866, 0.97 , 0.659, 0.963, 0.979,\n",
              "       0.966])"
            ]
          },
          "metadata": {
            "tags": []
          },
          "execution_count": 26
        }
      ]
    },
    {
      "cell_type": "markdown",
      "metadata": {
        "id": "rTC0XQO6GxoL",
        "colab_type": "text"
      },
      "source": [
        "### 4.2.2 test each other"
      ]
    },
    {
      "cell_type": "code",
      "metadata": {
        "id": "joOd1DJGGxoM",
        "colab_type": "code",
        "outputId": "737f0d2d-9141-44ed-8627-4345de5b658d",
        "colab": {
          "base_uri": "https://localhost:8080/",
          "height": 73
        }
      },
      "source": [
        "torch.save(model_mnist,'mnist.pt')\n"
      ],
      "execution_count": 0,
      "outputs": [
        {
          "output_type": "stream",
          "text": [
            "/usr/local/lib/python3.6/dist-packages/torch/serialization.py:360: UserWarning: Couldn't retrieve source code for container of type Model. It won't be checked for correctness upon loading.\n",
            "  \"type \" + obj.__name__ + \". It won't be checked \"\n"
          ],
          "name": "stderr"
        }
      ]
    },
    {
      "cell_type": "code",
      "metadata": {
        "id": "gLmDoIFVGxoP",
        "colab_type": "code",
        "colab": {}
      },
      "source": [
        "model_f = torch.load('mnist.pt')"
      ],
      "execution_count": 0,
      "outputs": []
    },
    {
      "cell_type": "code",
      "metadata": {
        "id": "w6blZOCMGxoR",
        "colab_type": "code",
        "colab": {}
      },
      "source": [
        "train_loader = DataLoader(train_fashion,batch_size=10,shuffle=True)\n",
        "test_loader = DataLoader(test_fashion,batch_size=10,shuffle=False)"
      ],
      "execution_count": 0,
      "outputs": []
    },
    {
      "cell_type": "code",
      "metadata": {
        "id": "gnQPyJ4SGxoW",
        "colab_type": "code",
        "outputId": "124158b3-6772-4f6f-aac9-17edc1cb48aa",
        "colab": {
          "base_uri": "https://localhost:8080/",
          "height": 197
        }
      },
      "source": [
        "tst_corr = 0\n",
        "model_f.eval()\n",
        "test_fashion_list = [0,0,0,0,0,0,0,0,0,0]\n",
        "test_fashion_cor_list = [0,0,0,0,0,0,0,0,0,0]\n",
        "with torch.no_grad():\n",
        "    for k, (X_test,y_test) in enumerate(test_loader):         \n",
        "        k += 1\n",
        "        y_val = model_f.forward(X_test.to(device))\n",
        "        tst_loss = criterion_fashion(y_val,y_test.to(device))\n",
        "        predicted = torch.max(y_val,dim=1)[1]\n",
        "    \n",
        "        tst_batch_corr = (predicted.detach().cpu()==y_test).sum()\n",
        "        tst_corr += tst_batch_corr\n",
        "        \n",
        "        for ii in range(10):\n",
        "            index = y_test[ii].item()\n",
        "            test_fashion_list[index] += 1\n",
        "            if predicted[ii].item() == index:\n",
        "                test_fashion_cor_list[index] += 1\n",
        "            \n",
        "        if k%100 == 0:\n",
        "            acc = tst_corr.item() * 100 / (k*10)\n",
        "            print(f' batch{k} loss: {tst_loss.item()} accuracy: {acc}')"
      ],
      "execution_count": 0,
      "outputs": [
        {
          "output_type": "stream",
          "text": [
            " batch100 loss: 3.934504985809326 accuracy: 13.4\n",
            " batch200 loss: 2.578129768371582 accuracy: 13.15\n",
            " batch300 loss: 3.500739336013794 accuracy: 13.266666666666667\n",
            " batch400 loss: 3.7444190979003906 accuracy: 13.425\n",
            " batch500 loss: 3.663975954055786 accuracy: 13.68\n",
            " batch600 loss: 5.522805213928223 accuracy: 13.5\n",
            " batch700 loss: 3.2590396404266357 accuracy: 13.6\n",
            " batch800 loss: 3.838921308517456 accuracy: 13.15\n",
            " batch900 loss: 4.273087501525879 accuracy: 13.344444444444445\n",
            " batch1000 loss: 2.749953508377075 accuracy: 13.46\n"
          ],
          "name": "stdout"
        }
      ]
    },
    {
      "cell_type": "code",
      "metadata": {
        "id": "flGzdOfYGxoY",
        "colab_type": "code",
        "outputId": "a3f2fbcf-262c-40ba-c79a-ab317b427c86",
        "colab": {
          "base_uri": "https://localhost:8080/",
          "height": 53
        }
      },
      "source": [
        "fashion_per_class = np.array(test_fashion_cor_list) / np.array(test_fashion_list)\n",
        "fashion_per_class"
      ],
      "execution_count": 0,
      "outputs": [
        {
          "output_type": "execute_result",
          "data": {
            "text/plain": [
              "array([0.013, 0.572, 0.002, 0.007, 0.019, 0.084, 0.   , 0.006, 0.643,\n",
              "       0.   ])"
            ]
          },
          "metadata": {
            "tags": []
          },
          "execution_count": 31
        }
      ]
    },
    {
      "cell_type": "code",
      "metadata": {
        "id": "c1l1psATGxob",
        "colab_type": "code",
        "outputId": "42edf87b-b4e2-44b8-9687-76e8a8e1f0c5",
        "colab": {
          "base_uri": "https://localhost:8080/",
          "height": 73
        }
      },
      "source": [
        "torch.save(model_fashion,'fashion.pt')"
      ],
      "execution_count": 0,
      "outputs": [
        {
          "output_type": "stream",
          "text": [
            "/usr/local/lib/python3.6/dist-packages/torch/serialization.py:360: UserWarning: Couldn't retrieve source code for container of type Model. It won't be checked for correctness upon loading.\n",
            "  \"type \" + obj.__name__ + \". It won't be checked \"\n"
          ],
          "name": "stderr"
        }
      ]
    },
    {
      "cell_type": "code",
      "metadata": {
        "id": "eoi9WEKPGxod",
        "colab_type": "code",
        "colab": {}
      },
      "source": [
        "model_m = torch.load('fashion.pt')"
      ],
      "execution_count": 0,
      "outputs": []
    },
    {
      "cell_type": "code",
      "metadata": {
        "id": "EddCrTU2Gxof",
        "colab_type": "code",
        "colab": {}
      },
      "source": [
        "train_loader = DataLoader(train_mnist,batch_size=10,shuffle=True)\n",
        "test_loader = DataLoader(test_mnist,batch_size=10,shuffle=False)"
      ],
      "execution_count": 0,
      "outputs": []
    },
    {
      "cell_type": "code",
      "metadata": {
        "id": "BvZgIvYEGxoh",
        "colab_type": "code",
        "outputId": "196afa88-85fb-4b76-9e3c-fe865794739a",
        "colab": {
          "base_uri": "https://localhost:8080/",
          "height": 197
        }
      },
      "source": [
        "tst_corr = 0\n",
        "test_mnist_list = [0,0,0,0,0,0,0,0,0,0]\n",
        "test_mnist_cor_list = [0,0,0,0,0,0,0,0,0,0]\n",
        "\n",
        "model_m.eval()\n",
        "with torch.no_grad():\n",
        "    for k, (X_test,y_test) in enumerate(test_loader):         \n",
        "        k += 1\n",
        "        y_val = model_m.forward(X_test.to(device))\n",
        "        tst_loss = criterion_fashion(y_val,y_test.to(device))\n",
        "        predicted = torch.max(y_val,dim=1)[1]\n",
        "    \n",
        "        tst_batch_corr = (predicted.detach().cpu()==y_test).sum()\n",
        "        tst_corr += tst_batch_corr\n",
        "        \n",
        "        for ii in range(10):\n",
        "            index = y_test[ii].item()\n",
        "            test_mnist_list[index] += 1\n",
        "            if predicted[ii].item() == index:\n",
        "                test_mnist_cor_list[index] += 1\n",
        "            \n",
        "        if k%100 == 0:\n",
        "            acc = tst_corr.item() * 100 / (k*10)\n",
        "            print(f' batch{k} loss: {tst_loss.item()} accuracy: {acc}')"
      ],
      "execution_count": 0,
      "outputs": [
        {
          "output_type": "stream",
          "text": [
            " batch100 loss: 7.504907131195068 accuracy: 9.0\n",
            " batch200 loss: 5.306763648986816 accuracy: 9.0\n",
            " batch300 loss: 3.4237606525421143 accuracy: 8.933333333333334\n",
            " batch400 loss: 7.171060085296631 accuracy: 8.975\n",
            " batch500 loss: 5.002728462219238 accuracy: 9.3\n",
            " batch600 loss: 4.517780780792236 accuracy: 9.316666666666666\n",
            " batch700 loss: 10.194445610046387 accuracy: 9.428571428571429\n",
            " batch800 loss: 5.305689811706543 accuracy: 9.35\n",
            " batch900 loss: 9.522662162780762 accuracy: 9.322222222222223\n",
            " batch1000 loss: 6.002701759338379 accuracy: 9.26\n"
          ],
          "name": "stdout"
        }
      ]
    },
    {
      "cell_type": "code",
      "metadata": {
        "id": "jJSqMa3-Gxol",
        "colab_type": "code",
        "outputId": "bb018fab-870f-4a87-ef2d-f3395250e39a",
        "colab": {
          "base_uri": "https://localhost:8080/",
          "height": 53
        }
      },
      "source": [
        "mnist_per_class = np.array(test_mnist_cor_list) / np.array(test_mnist_list)\n",
        "mnist_per_class"
      ],
      "execution_count": 0,
      "outputs": [
        {
          "output_type": "execute_result",
          "data": {
            "text/plain": [
              "array([0.04183673, 0.05638767, 0.        , 0.05643564, 0.00101833,\n",
              "       0.66255605, 0.00417537, 0.00389105, 0.16837782, 0.        ])"
            ]
          },
          "metadata": {
            "tags": []
          },
          "execution_count": 36
        }
      ]
    },
    {
      "cell_type": "markdown",
      "metadata": {
        "id": "evUvMfzKGxoo",
        "colab_type": "text"
      },
      "source": [
        "# 4.3"
      ]
    },
    {
      "cell_type": "code",
      "metadata": {
        "id": "bdGwgaImGxop",
        "colab_type": "code",
        "colab": {}
      },
      "source": [
        "def make_data(fs,ms):\n",
        "    new_data = [] \n",
        "    mc,fc = 0,0\n",
        "    \n",
        "    while mc < 60000 and fc < 60000:\n",
        "        for i in range(fc,fc+fs):\n",
        "            new_data.append(train_fashion[i])\n",
        "        fc += fs\n",
        "        for i in range(mc,mc+ms):\n",
        "            new_data.append(train_mnist[i])\n",
        "        mc += ms\n",
        "            \n",
        "    if mc < 60000:\n",
        "        for i in range(mc,60000):\n",
        "            new_data.append(train_mnist[i])\n",
        "            \n",
        "    if fc < 60000:\n",
        "        for i in range(fc,60000):\n",
        "            new_data.append(train_fashion[i])\n",
        "    \n",
        "    return new_data\n",
        "        "
      ],
      "execution_count": 0,
      "outputs": []
    },
    {
      "cell_type": "code",
      "metadata": {
        "id": "SkK8kkLOGxor",
        "colab_type": "code",
        "colab": {}
      },
      "source": [
        "def plot_verify(img_m,img_f):\n",
        "    plt.figure(figsize=(1,1))\n",
        "    plt.imshow(img_m.reshape((28,28)), cmap=\"gist_yarg\")\n",
        "    \n",
        "    plt.figure(figsize=(1,1))\n",
        "    plt.imshow(img_f.reshape((28,28)), cmap=\"gist_yarg\")\n",
        "    return 0"
      ],
      "execution_count": 0,
      "outputs": []
    },
    {
      "cell_type": "code",
      "metadata": {
        "id": "frGJkvXPGxos",
        "colab_type": "code",
        "colab": {}
      },
      "source": [
        "data1 = make_data(10000,10000)\n",
        "loader1 = DataLoader(data1,batch_size=1,shuffle=False)"
      ],
      "execution_count": 0,
      "outputs": []
    },
    {
      "cell_type": "code",
      "metadata": {
        "id": "jS7k30k7Gxov",
        "colab_type": "code",
        "outputId": "8175b6aa-17b2-44cd-d741-533c99dbd4bc",
        "colab": {
          "base_uri": "https://localhost:8080/",
          "height": 35
        }
      },
      "source": [
        "len(loader1)"
      ],
      "execution_count": 0,
      "outputs": [
        {
          "output_type": "execute_result",
          "data": {
            "text/plain": [
              "120000"
            ]
          },
          "metadata": {
            "tags": []
          },
          "execution_count": 40
        }
      ]
    },
    {
      "cell_type": "code",
      "metadata": {
        "id": "7RFJV3ucGxoz",
        "colab_type": "code",
        "colab": {}
      },
      "source": [
        "for i,(img,label) in enumerate(loader1):\n",
        "    if i == 9999:\n",
        "        img_f1 = img\n",
        "    if i == 10000:\n",
        "        img_m1 = img"
      ],
      "execution_count": 0,
      "outputs": []
    },
    {
      "cell_type": "code",
      "metadata": {
        "id": "33P2naD1Gxo3",
        "colab_type": "code",
        "outputId": "6b41d452-1421-44e6-d4dc-4796642945ff",
        "colab": {
          "base_uri": "https://localhost:8080/",
          "height": 193
        }
      },
      "source": [
        "result1 = plot_verify(img_m1,img_f1)"
      ],
      "execution_count": 0,
      "outputs": [
        {
          "output_type": "display_data",
          "data": {
            "image/png": "[encoded data removed]",
            "text/plain": [
              "<Figure size 72x72 with 1 Axes>"
            ]
          },
          "metadata": {
            "tags": []
          }
        },
        {
          "output_type": "display_data",
          "data": {
            "image/png": "[encoded data removed]",
            "text/plain": [
              "<Figure size 72x72 with 1 Axes>"
            ]
          },
          "metadata": {
            "tags": []
          }
        }
      ]
    },
    {
      "cell_type": "code",
      "metadata": {
        "id": "eC9wnljkGxo5",
        "colab_type": "code",
        "colab": {}
      },
      "source": [
        "data2 = make_data(2000,1000)\n",
        "loader2 = DataLoader(data2,batch_size=1,shuffle=False)"
      ],
      "execution_count": 0,
      "outputs": []
    },
    {
      "cell_type": "code",
      "metadata": {
        "id": "GC85GneHGxo8",
        "colab_type": "code",
        "colab": {}
      },
      "source": [
        "for i,(img,label) in enumerate(loader2):\n",
        "    if i == 2000:\n",
        "        img_m2 = img\n",
        "    if i == 1999:\n",
        "        img_f2 = img"
      ],
      "execution_count": 0,
      "outputs": []
    },
    {
      "cell_type": "code",
      "metadata": {
        "id": "bFQ2TRytGxo9",
        "colab_type": "code",
        "outputId": "2947ad1b-6f42-41dc-9f78-8727e1df1d13",
        "colab": {
          "base_uri": "https://localhost:8080/",
          "height": 193
        }
      },
      "source": [
        "result2 = plot_verify(img_m2,img_f2)"
      ],
      "execution_count": 0,
      "outputs": [
        {
          "output_type": "display_data",
          "data": {
            "image/png": "[encoded data removed]",
            "text/plain": [
              "<Figure size 72x72 with 1 Axes>"
            ]
          },
          "metadata": {
            "tags": []
          }
        },
        {
          "output_type": "display_data",
          "data": {
            "image/png": "[encoded data removed]",
            "text/plain": [
              "<Figure size 72x72 with 1 Axes>"
            ]
          },
          "metadata": {
            "tags": []
          }
        }
      ]
    },
    {
      "cell_type": "code",
      "metadata": {
        "id": "Q4OQDBsgGxpB",
        "colab_type": "code",
        "colab": {}
      },
      "source": [
        "data3 = make_data(1000,1000)\n",
        "loader3 = DataLoader(data3,batch_size=1,shuffle=False)"
      ],
      "execution_count": 0,
      "outputs": []
    },
    {
      "cell_type": "code",
      "metadata": {
        "id": "irq8E67QGxpD",
        "colab_type": "code",
        "colab": {}
      },
      "source": [
        "for i,(img,label) in enumerate(loader3):\n",
        "    if i == 1000:\n",
        "        img_m3 = img\n",
        "    if i == 999:\n",
        "        img_f3 = img"
      ],
      "execution_count": 0,
      "outputs": []
    },
    {
      "cell_type": "code",
      "metadata": {
        "id": "FXXX9WvsGxpE",
        "colab_type": "code",
        "outputId": "5c8a1225-ecc5-49cd-e045-9fe49ef1c0a0",
        "colab": {
          "base_uri": "https://localhost:8080/",
          "height": 193
        }
      },
      "source": [
        "result3 = plot_verify(img_m3,img_f3)"
      ],
      "execution_count": 0,
      "outputs": [
        {
          "output_type": "display_data",
          "data": {
            "image/png": "[encoded data removed]",
            "text/plain": [
              "<Figure size 72x72 with 1 Axes>"
            ]
          },
          "metadata": {
            "tags": []
          }
        },
        {
          "output_type": "display_data",
          "data": {
            "image/png": "[encoded data removed]",
            "text/plain": [
              "<Figure size 72x72 with 1 Axes>"
            ]
          },
          "metadata": {
            "tags": []
          }
        }
      ]
    },
    {
      "cell_type": "code",
      "metadata": {
        "id": "UT4O2igIGxpJ",
        "colab_type": "code",
        "colab": {}
      },
      "source": [
        "def make_data4(fs1,ms1,fs2,ms2):\n",
        "    new_data= []\n",
        "    mc,fc = 0,0\n",
        "    \n",
        "    while mc < 60000 and fc < 60000:\n",
        "        \n",
        "        for i in range(fc,fc+fs1):\n",
        "            new_data.append(train_fashion[i])\n",
        "        fc += fs1\n",
        "        for i in range(mc,mc+ms1):\n",
        "            new_data.append(train_mnist[i])\n",
        "        mc += ms1\n",
        "        for i in range(fc,fc+fs2):\n",
        "            new_data.append(train_fashion[i])\n",
        "        fc += fs2\n",
        "        for i in range(mc,mc+ms2):\n",
        "            new_data.append(train_mnist[i])\n",
        "        mc += ms2\n",
        "        \n",
        "    if mc < 60000:\n",
        "        for i in range(mc,60000):\n",
        "            new_data.append(train_mnist[i])\n",
        "            \n",
        "    if fc < 60000:\n",
        "        for i in range(fc,60000):\n",
        "            new_data.append(train_fashion[i])\n",
        "    \n",
        "    return new_data"
      ],
      "execution_count": 0,
      "outputs": []
    },
    {
      "cell_type": "code",
      "metadata": {
        "id": "YqOk48PpGxpL",
        "colab_type": "code",
        "colab": {}
      },
      "source": [
        "data4 = make_data4(200,1000,100,500)\n",
        "loader4 = DataLoader(data4,batch_size=1,shuffle=False)"
      ],
      "execution_count": 0,
      "outputs": []
    },
    {
      "cell_type": "code",
      "metadata": {
        "id": "Zo5yBb6-GxpM",
        "colab_type": "code",
        "colab": {}
      },
      "source": [
        "for i,(img,label) in enumerate(loader4):\n",
        "    if i == 200:\n",
        "        img_m41 = img\n",
        "    if i == 199:\n",
        "        img_f41 = img\n",
        "    if i == 1199:\n",
        "        img_m42 = img\n",
        "    if i == 1200:\n",
        "        img_f42 = img"
      ],
      "execution_count": 0,
      "outputs": []
    },
    {
      "cell_type": "code",
      "metadata": {
        "id": "HX9Hlo2HGxpO",
        "colab_type": "code",
        "outputId": "326306dd-37b8-46ec-ee0b-b9d8e4d6d687",
        "colab": {
          "base_uri": "https://localhost:8080/",
          "height": 369
        }
      },
      "source": [
        "result41 = plot_verify(img_m41,img_f41)\n",
        "result42 = plot_verify(img_m42,img_f42)"
      ],
      "execution_count": 0,
      "outputs": [
        {
          "output_type": "display_data",
          "data": {
            "image/png": "[encoded data removed]",
            "text/plain": [
              "<Figure size 72x72 with 1 Axes>"
            ]
          },
          "metadata": {
            "tags": []
          }
        },
        {
          "output_type": "display_data",
          "data": {
            "image/png": "[encoded data removed]",
            "text/plain": [
              "<Figure size 72x72 with 1 Axes>"
            ]
          },
          "metadata": {
            "tags": []
          }
        },
        {
          "output_type": "display_data",
          "data": {
            "image/png": "[encoded data removed]",
            "text/plain": [
              "<Figure size 72x72 with 1 Axes>"
            ]
          },
          "metadata": {
            "tags": []
          }
        },
        {
          "output_type": "display_data",
          "data": {
            "image/png": "[encoded data removed]",
            "text/plain": [
              "<Figure size 72x72 with 1 Axes>"
            ]
          },
          "metadata": {
            "tags": []
          }
        }
      ]
    },
    {
      "cell_type": "code",
      "metadata": {
        "id": "QLFRGu3DGxpQ",
        "colab_type": "code",
        "colab": {}
      },
      "source": [
        "def make_data5():\n",
        "    new_data = []\n",
        "    for i in range(10000):\n",
        "        new_data.append(test_fashion[i])\n",
        "        new_data.append(test_mnist[i])\n",
        "    return new_data"
      ],
      "execution_count": 0,
      "outputs": []
    },
    {
      "cell_type": "code",
      "metadata": {
        "id": "Yvmg2hMvGxpS",
        "colab_type": "code",
        "colab": {}
      },
      "source": [
        "data5 = make_data5()\n",
        "loader5 = DataLoader(data5,batch_size=1,shuffle=False)"
      ],
      "execution_count": 0,
      "outputs": []
    },
    {
      "cell_type": "code",
      "metadata": {
        "id": "5trmucsxGxpT",
        "colab_type": "code",
        "colab": {}
      },
      "source": [
        "for i,(img,label) in enumerate(loader5):\n",
        "    if i == 1:\n",
        "        img_m51 = img\n",
        "    if i == 0:\n",
        "        img_f51 = img\n",
        "    if i == 199:\n",
        "        img_m52 = img\n",
        "    if i == 200:\n",
        "        img_f52 = img"
      ],
      "execution_count": 0,
      "outputs": []
    },
    {
      "cell_type": "code",
      "metadata": {
        "id": "CaYcP_3SGxpV",
        "colab_type": "code",
        "outputId": "72d4b6ab-940f-420c-c37d-de69149d7106",
        "colab": {
          "base_uri": "https://localhost:8080/",
          "height": 369
        }
      },
      "source": [
        "result51 = plot_verify(img_m51,img_f51)\n",
        "result52 = plot_verify(img_m52,img_f52)"
      ],
      "execution_count": 0,
      "outputs": [
        {
          "output_type": "display_data",
          "data": {
            "image/png": "[encoded data removed]",
            "text/plain": [
              "<Figure size 72x72 with 1 Axes>"
            ]
          },
          "metadata": {
            "tags": []
          }
        },
        {
          "output_type": "display_data",
          "data": {
            "image/png": "[encoded data removed]",
            "text/plain": [
              "<Figure size 72x72 with 1 Axes>"
            ]
          },
          "metadata": {
            "tags": []
          }
        },
        {
          "output_type": "display_data",
          "data": {
            "image/png": "[encoded data removed]",
            "text/plain": [
              "<Figure size 72x72 with 1 Axes>"
            ]
          },
          "metadata": {
            "tags": []
          }
        },
        {
          "output_type": "display_data",
          "data": {
            "image/png": "[encoded data removed]",
            "text/plain": [
              "<Figure size 72x72 with 1 Axes>"
            ]
          },
          "metadata": {
            "tags": []
          }
        }
      ]
    },
    {
      "cell_type": "markdown",
      "metadata": {
        "id": "qIae7AQ9GxpX",
        "colab_type": "text"
      },
      "source": [
        "# 4.4"
      ]
    },
    {
      "cell_type": "code",
      "metadata": {
        "id": "fVprtai1GxpY",
        "colab_type": "code",
        "colab": {}
      },
      "source": [
        "model_m = torch.load('mnist.pt')\n",
        "model_f = torch.load('fashion.pt')"
      ],
      "execution_count": 0,
      "outputs": []
    },
    {
      "cell_type": "code",
      "metadata": {
        "id": "DEsx1jN_GxpZ",
        "colab_type": "code",
        "colab": {}
      },
      "source": [
        "eta = 0.01\n",
        "alpha1 = 11/120000"
      ],
      "execution_count": 0,
      "outputs": []
    },
    {
      "cell_type": "markdown",
      "metadata": {
        "id": "pL89lBj2Gxpc",
        "colab_type": "text"
      },
      "source": [
        "### for data1, shift = 11, sequence = 120000, so alpha1 = 11/120000"
      ]
    },
    {
      "cell_type": "code",
      "metadata": {
        "id": "HtADtow_Gxpd",
        "colab_type": "code",
        "colab": {}
      },
      "source": [
        "ws0 = np.array([0.5,0.5])\n",
        "wm0 = np.array([0,0])"
      ],
      "execution_count": 0,
      "outputs": []
    },
    {
      "cell_type": "code",
      "metadata": {
        "id": "0xgqtxidGxpf",
        "colab_type": "code",
        "colab": {}
      },
      "source": [
        "loader1 = DataLoader(data1,batch_size=1,shuffle=False)"
      ],
      "execution_count": 0,
      "outputs": []
    },
    {
      "cell_type": "code",
      "metadata": {
        "id": "2l0uIMDrGxph",
        "colab_type": "code",
        "colab": {}
      },
      "source": [
        "def Pred(x,v,m1,m2):\n",
        "    #print(v)\n",
        "    m1 = m1.to(device)\n",
        "    m2 = m2.to(device)\n",
        "    y1 = m1.forward(x.to(device)) \n",
        "    y2 = m2.forward(x.to(device))\n",
        "    #print(y1)\n",
        "   \n",
        "    \n",
        "    y1 = v[0] * y1\n",
        "    y2 = v[1] * y2\n",
        "    y = y1 + y2\n",
        "    y = y.argmax(1)\n",
        "    #print(y)\n",
        "    \n",
        "    return y\n",
        "                     "
      ],
      "execution_count": 0,
      "outputs": []
    },
    {
      "cell_type": "code",
      "metadata": {
        "id": "jZO7MkSJGxpi",
        "colab_type": "code",
        "colab": {}
      },
      "source": [
        "def Loss(X_train,y_train):\n",
        "    \n",
        "    cr = nn.CrossEntropyLoss()\n",
        "    loss1 = cr(model_m(X_train.to(device)),y_train.to(device))\n",
        "    loss2 = cr(model_f(X_train.to(device)),y_train.to(device))\n",
        "    loss = np.zeros(shape=2)\n",
        "    loss[0] = loss1\n",
        "    loss[1] = loss2\n",
        "    return loss"
      ],
      "execution_count": 0,
      "outputs": []
    },
    {
      "cell_type": "code",
      "metadata": {
        "id": "hb2a0S4SGxpk",
        "colab_type": "code",
        "colab": {}
      },
      "source": [
        "def find_best_expert(alpha,loader):\n",
        "    best_experts = []\n",
        "    ws = ws0\n",
        "    losses = []\n",
        "\n",
        "    for j,(X_train,y_train) in enumerate(loader):\n",
        "        vs = ws / sum(ws)\n",
        "        if j%10000 == 0:\n",
        "            print('vs',vs)\n",
        "        y_hat = Pred(X_train,vs,model_m,model_f)\n",
        "        #print(y_hat)\n",
        "        loss = Loss(X_train,y_train)\n",
        "        losses.append(loss)\n",
        "        ex = np.array([np.exp(-1*eta*i) for i in loss])\n",
        "        wm = np.array([ex[0]*ws[0],ex[1]*ws[1]])\n",
        "        pool = alpha * sum(wm)\n",
        "        ws = (1-alpha)*wm + (pool-alpha*wm)\n",
        "        if loss[0] > loss[1]:\n",
        "            best_expert = 1\n",
        "        else:\n",
        "            best_expert = 2\n",
        "        best_experts.append(best_expert)\n",
        "    \n",
        "    vs = ws / sum(ws)\n",
        "        \n",
        "    return vs, best_experts, losses"
      ],
      "execution_count": 0,
      "outputs": []
    },
    {
      "cell_type": "code",
      "metadata": {
        "id": "Gxj41aEpGxpm",
        "colab_type": "code",
        "outputId": "c7af0ac3-fb78-4e0f-d6e6-7c400c558219",
        "colab": {
          "base_uri": "https://localhost:8080/",
          "height": 233
        }
      },
      "source": [
        "vs1, best_experts1, losses1 = find_best_expert(alpha1,loader1)"
      ],
      "execution_count": 0,
      "outputs": [
        {
          "output_type": "stream",
          "text": [
            "vs [0.5 0.5]\n",
            "vs [0.00263506 0.99736494]\n",
            "vs [0.99867206 0.00132794]\n",
            "vs [0.00277241 0.99722759]\n",
            "vs [0.99815383 0.00184617]\n",
            "vs [0.00302219 0.99697781]\n",
            "vs [0.99886197 0.00113803]\n",
            "vs [0.0028782 0.9971218]\n",
            "vs [0.99823267 0.00176733]\n",
            "vs [0.00266897 0.99733103]\n",
            "vs [0.99840943 0.00159057]\n",
            "vs [0.00307446 0.99692554]\n"
          ],
          "name": "stdout"
        }
      ]
    },
    {
      "cell_type": "code",
      "metadata": {
        "id": "p_y4qJY5Gxpp",
        "colab_type": "code",
        "outputId": "84a2dd4f-836d-46b3-fed2-b3b82cd08d4e",
        "colab": {
          "base_uri": "https://localhost:8080/",
          "height": 35
        }
      },
      "source": [
        "vs1"
      ],
      "execution_count": 0,
      "outputs": [
        {
          "output_type": "execute_result",
          "data": {
            "text/plain": [
              "array([0.99898583, 0.00101417])"
            ]
          },
          "metadata": {
            "tags": []
          },
          "execution_count": 75
        }
      ]
    },
    {
      "cell_type": "code",
      "metadata": {
        "id": "rNd7TJcqGxpq",
        "colab_type": "code",
        "outputId": "b5f9efcb-9098-430d-cbca-7242a42ec0fd",
        "colab": {
          "base_uri": "https://localhost:8080/",
          "height": 303
        }
      },
      "source": [
        "plt.plot(losses1)"
      ],
      "execution_count": 0,
      "outputs": [
        {
          "output_type": "execute_result",
          "data": {
            "text/plain": [
              "[<matplotlib.lines.Line2D at 0x7fa7ab62de80>,\n",
              " <matplotlib.lines.Line2D at 0x7fa7ab5f6358>]"
            ]
          },
          "metadata": {
            "tags": []
          },
          "execution_count": 76
        },
        {
          "output_type": "display_data",
          "data": {
            "image/png": "[encoded data removed]",
            "text/plain": [
              "<Figure size 432x288 with 1 Axes>"
            ]
          },
          "metadata": {
            "tags": []
          }
        }
      ]
    },
    {
      "cell_type": "code",
      "metadata": {
        "id": "QHXJ8KYfGxpu",
        "colab_type": "code",
        "colab": {}
      },
      "source": [
        "def test_best_expert(vs):\n",
        "    cor_num = 0\n",
        "    for j,(X_test,y_test) in enumerate(loader5):\n",
        "        y_pre_test = Pred(X_test.to(device),vs,model_m,model_f)\n",
        "        if y_test.to(device) == y_pre_test:\n",
        "            cor_num += 1\n",
        "    \n",
        "    cor_rate = cor_num / 20000\n",
        "    \n",
        "    return cor_rate"
      ],
      "execution_count": 0,
      "outputs": []
    },
    {
      "cell_type": "code",
      "metadata": {
        "id": "_o-jxNCyGxpv",
        "colab_type": "code",
        "outputId": "9d2b0a41-228c-4c88-e5ca-5f29a1261a17",
        "colab": {
          "base_uri": "https://localhost:8080/",
          "height": 35
        }
      },
      "source": [
        "test_best_expert(vs1)"
      ],
      "execution_count": 0,
      "outputs": [
        {
          "output_type": "execute_result",
          "data": {
            "text/plain": [
              "0.56435"
            ]
          },
          "metadata": {
            "tags": []
          },
          "execution_count": 82
        }
      ]
    },
    {
      "cell_type": "markdown",
      "metadata": {
        "id": "dMatcwGhGxpx",
        "colab_type": "text"
      },
      "source": [
        "### For data2, shift times = 30, sequence length = 120000, so alpha2 = 1/4000"
      ]
    },
    {
      "cell_type": "code",
      "metadata": {
        "id": "pg6fYr3WGxpx",
        "colab_type": "code",
        "colab": {}
      },
      "source": [
        "alpha2 = 1/4000"
      ],
      "execution_count": 0,
      "outputs": []
    },
    {
      "cell_type": "code",
      "metadata": {
        "id": "ACtsHmqxGxpz",
        "colab_type": "code",
        "colab": {}
      },
      "source": [
        "loader2 = DataLoader(data2,batch_size=1,shuffle=False)"
      ],
      "execution_count": 0,
      "outputs": []
    },
    {
      "cell_type": "code",
      "metadata": {
        "id": "iU3AErnRGxp0",
        "colab_type": "code",
        "outputId": "e0bf2a7d-8fda-43d6-b7d1-8cf75db0a698",
        "colab": {
          "base_uri": "https://localhost:8080/",
          "height": 233
        }
      },
      "source": [
        "vs2, best_experts2, losses2 = find_best_expert(alpha2,loader2)"
      ],
      "execution_count": 0,
      "outputs": [
        {
          "output_type": "stream",
          "text": [
            "vs [0.5 0.5]\n",
            "vs [0.00816407 0.99183593]\n",
            "vs [0.00739229 0.99260771]\n",
            "vs [0.9963861 0.0036139]\n",
            "vs [0.00689504 0.99310496]\n",
            "vs [0.00736274 0.99263726]\n",
            "vs [0.99498031 0.00501969]\n",
            "vs [0.00784378 0.99215622]\n",
            "vs [0.00735403 0.99264597]\n",
            "vs [0.9969019 0.0030981]\n",
            "vs [0.99519399 0.00480601]\n",
            "vs [0.99567334 0.00432666]\n"
          ],
          "name": "stdout"
        }
      ]
    },
    {
      "cell_type": "code",
      "metadata": {
        "id": "wnOZi8J1Gxp2",
        "colab_type": "code",
        "outputId": "fc5beb73-dbe1-4771-c7db-5ded149aba2e",
        "colab": {
          "base_uri": "https://localhost:8080/",
          "height": 35
        }
      },
      "source": [
        "vs2"
      ],
      "execution_count": 0,
      "outputs": [
        {
          "output_type": "execute_result",
          "data": {
            "text/plain": [
              "array([0.99723851, 0.00276149])"
            ]
          },
          "metadata": {
            "tags": []
          },
          "execution_count": 86
        }
      ]
    },
    {
      "cell_type": "code",
      "metadata": {
        "id": "pBbow4DWGxp3",
        "colab_type": "code",
        "outputId": "39663ba3-4b8a-4724-e88e-adeadccb544c",
        "colab": {
          "base_uri": "https://localhost:8080/",
          "height": 303
        }
      },
      "source": [
        "plt.plot(losses2)"
      ],
      "execution_count": 0,
      "outputs": [
        {
          "output_type": "execute_result",
          "data": {
            "text/plain": [
              "[<matplotlib.lines.Line2D at 0x7fa7aa1ccd30>,\n",
              " <matplotlib.lines.Line2D at 0x7fa7aa1cce80>]"
            ]
          },
          "metadata": {
            "tags": []
          },
          "execution_count": 87
        },
        {
          "output_type": "display_data",
          "data": {
            "image/png": "[encoded data removed]",
            "text/plain": [
              "<Figure size 432x288 with 1 Axes>"
            ]
          },
          "metadata": {
            "tags": []
          }
        }
      ]
    },
    {
      "cell_type": "code",
      "metadata": {
        "id": "2dXyYbrUGxp7",
        "colab_type": "code",
        "outputId": "563d5fb3-af6b-402b-d324-80a13e54c41e",
        "colab": {
          "base_uri": "https://localhost:8080/",
          "height": 35
        }
      },
      "source": [
        "test_best_expert(vs2)"
      ],
      "execution_count": 0,
      "outputs": [
        {
          "output_type": "execute_result",
          "data": {
            "text/plain": [
              "0.5663"
            ]
          },
          "metadata": {
            "tags": []
          },
          "execution_count": 88
        }
      ]
    },
    {
      "cell_type": "markdown",
      "metadata": {
        "id": "u_vNCNvnGxp9",
        "colab_type": "text"
      },
      "source": [
        "### For data3, shift times = 60, sequence length = 120000, so alpha3 = 1/2000"
      ]
    },
    {
      "cell_type": "code",
      "metadata": {
        "id": "zq6xtU9rGxp9",
        "colab_type": "code",
        "colab": {}
      },
      "source": [
        "alpha3 = 1/2000"
      ],
      "execution_count": 0,
      "outputs": []
    },
    {
      "cell_type": "code",
      "metadata": {
        "id": "Pc4CG1akGxp_",
        "colab_type": "code",
        "colab": {}
      },
      "source": [
        "loader3 = DataLoader(data3,batch_size=1,shuffle=False)"
      ],
      "execution_count": 0,
      "outputs": []
    },
    {
      "cell_type": "code",
      "metadata": {
        "id": "_fU4h_MZGxqB",
        "colab_type": "code",
        "outputId": "2f4ce794-0d3a-438b-be9a-bc482a47811f",
        "colab": {
          "base_uri": "https://localhost:8080/",
          "height": 233
        }
      },
      "source": [
        "vs3, best_experts3, losses3 = find_best_expert(alpha3,loader3)"
      ],
      "execution_count": 0,
      "outputs": [
        {
          "output_type": "stream",
          "text": [
            "vs [0.5 0.5]\n",
            "vs [0.99191677 0.00808323]\n",
            "vs [0.99279667 0.00720333]\n",
            "vs [0.99188081 0.00811919]\n",
            "vs [0.990009 0.009991]\n",
            "vs [0.99325292 0.00674708]\n",
            "vs [0.99382162 0.00617838]\n",
            "vs [0.99393879 0.00606121]\n",
            "vs [0.99043209 0.00956791]\n",
            "vs [0.99025925 0.00974075]\n",
            "vs [0.99138224 0.00861776]\n",
            "vs [0.99449405 0.00550595]\n"
          ],
          "name": "stdout"
        }
      ]
    },
    {
      "cell_type": "code",
      "metadata": {
        "id": "2wBBe0x9GxqC",
        "colab_type": "code",
        "outputId": "0c95e438-a9f9-4762-afd5-601ffe1a1c7f",
        "colab": {
          "base_uri": "https://localhost:8080/",
          "height": 35
        }
      },
      "source": [
        "vs3"
      ],
      "execution_count": 0,
      "outputs": [
        {
          "output_type": "execute_result",
          "data": {
            "text/plain": [
              "array([0.99449094, 0.00550906])"
            ]
          },
          "metadata": {
            "tags": []
          },
          "execution_count": 92
        }
      ]
    },
    {
      "cell_type": "code",
      "metadata": {
        "id": "D0G6oupAGxqF",
        "colab_type": "code",
        "outputId": "1bbfd24b-f46f-4f41-e43d-e22cc4a62641",
        "colab": {
          "base_uri": "https://localhost:8080/",
          "height": 303
        }
      },
      "source": [
        "plt.plot(losses3)"
      ],
      "execution_count": 0,
      "outputs": [
        {
          "output_type": "execute_result",
          "data": {
            "text/plain": [
              "[<matplotlib.lines.Line2D at 0x7fa7a980ac18>,\n",
              " <matplotlib.lines.Line2D at 0x7fa7a980ada0>]"
            ]
          },
          "metadata": {
            "tags": []
          },
          "execution_count": 93
        },
        {
          "output_type": "display_data",
          "data": {
            "image/png": "[encoded data removed]",
            "text/plain": [
              "<Figure size 432x288 with 1 Axes>"
            ]
          },
          "metadata": {
            "tags": []
          }
        }
      ]
    },
    {
      "cell_type": "code",
      "metadata": {
        "id": "oemECMGfGxqH",
        "colab_type": "code",
        "outputId": "08df493d-3111-499a-eb7a-a1ea1a2f6c3d",
        "colab": {
          "base_uri": "https://localhost:8080/",
          "height": 35
        }
      },
      "source": [
        "test_best_expert(vs3)"
      ],
      "execution_count": 0,
      "outputs": [
        {
          "output_type": "execute_result",
          "data": {
            "text/plain": [
              "0.5691"
            ]
          },
          "metadata": {
            "tags": []
          },
          "execution_count": 94
        }
      ]
    },
    {
      "cell_type": "markdown",
      "metadata": {
        "id": "Vs3bSobHGxqI",
        "colab_type": "text"
      },
      "source": [
        "### For data4, shift times = 40, sequence length = 120000, so alpha4 = 1/3000"
      ]
    },
    {
      "cell_type": "code",
      "metadata": {
        "id": "SAyFFoB9GxqI",
        "colab_type": "code",
        "colab": {}
      },
      "source": [
        "alpha4 = 1/3000"
      ],
      "execution_count": 0,
      "outputs": []
    },
    {
      "cell_type": "code",
      "metadata": {
        "id": "_5cd4NqWGxqK",
        "colab_type": "code",
        "colab": {}
      },
      "source": [
        "loader4 = DataLoader(data4,batch_size=1,shuffle=False)"
      ],
      "execution_count": 0,
      "outputs": []
    },
    {
      "cell_type": "code",
      "metadata": {
        "id": "tDiazQ7YGxqM",
        "colab_type": "code",
        "outputId": "b7af0daf-cc4b-4be7-d351-38441c14222e",
        "colab": {
          "base_uri": "https://localhost:8080/",
          "height": 233
        }
      },
      "source": [
        "vs4, best_experts4, losses4 = find_best_expert(alpha4,loader4)"
      ],
      "execution_count": 0,
      "outputs": [
        {
          "output_type": "stream",
          "text": [
            "vs [0.5 0.5]\n",
            "vs [0.99583972 0.00416028]\n",
            "vs [0.10426992 0.89573008]\n",
            "vs [0.99549244 0.00450756]\n",
            "vs [0.99535264 0.00464736]\n",
            "vs [0.99530237 0.00469763]\n",
            "vs [0.99258706 0.00741294]\n",
            "vs [0.99673147 0.00326853]\n",
            "vs [0.01000968 0.98999032]\n",
            "vs [0.01090431 0.98909569]\n",
            "vs [0.01038881 0.98961119]\n",
            "vs [0.00963896 0.99036104]\n"
          ],
          "name": "stdout"
        }
      ]
    },
    {
      "cell_type": "code",
      "metadata": {
        "id": "KBlNzFUJGxqN",
        "colab_type": "code",
        "outputId": "deb94228-c89d-4e93-a580-5acb99f5ea8c",
        "colab": {
          "base_uri": "https://localhost:8080/",
          "height": 35
        }
      },
      "source": [
        "vs4"
      ],
      "execution_count": 0,
      "outputs": [
        {
          "output_type": "execute_result",
          "data": {
            "text/plain": [
              "array([0.01109137, 0.98890863])"
            ]
          },
          "metadata": {
            "tags": []
          },
          "execution_count": 98
        }
      ]
    },
    {
      "cell_type": "code",
      "metadata": {
        "id": "Y_m2HUDpGxqP",
        "colab_type": "code",
        "outputId": "a26fea3b-3cca-4045-eaa3-f51b0c513748",
        "colab": {
          "base_uri": "https://localhost:8080/",
          "height": 303
        }
      },
      "source": [
        "plt.plot(losses4)"
      ],
      "execution_count": 0,
      "outputs": [
        {
          "output_type": "execute_result",
          "data": {
            "text/plain": [
              "[<matplotlib.lines.Line2D at 0x7fa7a8e4dc50>,\n",
              " <matplotlib.lines.Line2D at 0x7fa7a8e4ddd8>]"
            ]
          },
          "metadata": {
            "tags": []
          },
          "execution_count": 99
        },
        {
          "output_type": "display_data",
          "data": {
            "image/png": "[encoded data removed]",
            "text/plain": [
              "<Figure size 432x288 with 1 Axes>"
            ]
          },
          "metadata": {
            "tags": []
          }
        }
      ]
    },
    {
      "cell_type": "code",
      "metadata": {
        "id": "JmUPyhNOGxqQ",
        "colab_type": "code",
        "outputId": "35c71041-8b8f-4a57-fecf-f985fe4e6189",
        "colab": {
          "base_uri": "https://localhost:8080/",
          "height": 35
        }
      },
      "source": [
        "test_best_expert(vs4)"
      ],
      "execution_count": 0,
      "outputs": [
        {
          "output_type": "execute_result",
          "data": {
            "text/plain": [
              "0.50425"
            ]
          },
          "metadata": {
            "tags": []
          },
          "execution_count": 100
        }
      ]
    },
    {
      "cell_type": "code",
      "metadata": {
        "id": "RPacG0iUGxqR",
        "colab_type": "code",
        "colab": {}
      },
      "source": [
        ""
      ],
      "execution_count": 0,
      "outputs": []
    }
  ]
}